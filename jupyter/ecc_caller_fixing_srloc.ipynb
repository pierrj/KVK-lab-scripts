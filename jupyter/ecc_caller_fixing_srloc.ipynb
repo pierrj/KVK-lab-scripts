{
 "cells": [
  {
   "cell_type": "code",
   "execution_count": 2,
   "metadata": {},
   "outputs": [],
   "source": [
    "import csv\n",
    "import ipyparallel as ipp\n",
    "from itertools import groupby\n",
    "from itertools import compress\n",
    "import subprocess\n",
    "import statistics\n",
    "import collections\n",
    "import sys\n",
    "import os"
   ]
  },
  {
   "cell_type": "code",
   "execution_count": 4,
   "metadata": {},
   "outputs": [],
   "source": [
    "### INPUTS\n",
    "scaffold_number = 56"
   ]
  },
  {
   "cell_type": "code",
   "execution_count": 3,
   "metadata": {},
   "outputs": [],
   "source": [
    "### ORIGINAL THIS WRITES SO DON'T RUN IT\n",
    "#with open('/global/scratch/users/pierrj/eccDNA/magnaporthe_pureculture/rawdata/illumina/pureculture_samples/G3_1A/ecc_callerv3/memory_test/getsrloc_test.bed', newline = '') as file:\n",
    "    file_reader = csv.reader(file, delimiter = '\\t')\n",
    "    with open('merged.getsrloc_test', 'w', newline = '') as filtered:\n",
    "        w = csv.writer(filtered, delimiter = '\\t')\n",
    "        for line1 in file_reader:\n",
    "            line2 = next(file_reader)\n",
    "            line1[2] = line2[1]\n",
    "            w.writerow(line1)"
   ]
  },
  {
   "cell_type": "code",
   "execution_count": 10,
   "metadata": {},
   "outputs": [],
   "source": [
    "### ORIGINAL WITH _old ADDED\n",
    "with open('/global/scratch/users/pierrj/eccDNA/magnaporthe_pureculture/rawdata/illumina/pureculture_samples/G3_1A/ecc_callerv3/memory_test/merged.getsrloc_test', newline = '') as ecc:\n",
    "    ecc_reader = csv.reader(ecc, delimiter = '\\t')\n",
    "    # index ecc read file so that confirmeccs only looks at eccs found on the same chromosome\n",
    "    eccs_indexed_old = [[] for i in range(scaffold_number)]\n",
    "    for row in ecc_reader:\n",
    "        eccs_indexed_old[(int(row[0][10:12])-1)].append([int(row[1]), int(row[2])])"
   ]
  },
  {
   "cell_type": "code",
   "execution_count": 12,
   "metadata": {},
   "outputs": [],
   "source": [
    "with open('/global/scratch/users/pierrj/eccDNA/magnaporthe_pureculture/rawdata/illumina/pureculture_samples/G3_1A/ecc_callerv3/memory_test/getsrloc_test.bed', newline = '') as file:\n",
    "    file_reader = csv.reader(file, delimiter = '\\t')\n",
    "    eccs_indexed = [[] for i in range(scaffold_number)]\n",
    "    for row1 in file_reader:\n",
    "        row2 = next(file_reader)\n",
    "        ecc_loc_raw = sorted([int(row1[1]), int(row1[2]), int(row2[1]), int(row2[2])])\n",
    "        ecc_loc = [ecc_loc_raw[0], ecc_loc_raw[3]]\n",
    "        eccs_indexed[(int(row1[0][10:12])-1)].append(ecc_loc)"
   ]
  },
  {
   "cell_type": "code",
   "execution_count": 13,
   "metadata": {},
   "outputs": [
    {
     "name": "stdout",
     "output_type": "stream",
     "text": [
      "[[356, 930], [923, 1240], [875, 1225], [675, 1151], [923, 1240], [392, 1240], [348, 1388], [900, 1649], [923, 1240], [691, 995], [828, 1307], [687, 1237], [909, 1508], [948, 1231], [948, 1231], [279, 834], [603, 1184], [866, 1237], [1147, 1591]]\n"
     ]
    }
   ],
   "source": [
    "print(eccs_indexed[55])"
   ]
  },
  {
   "cell_type": "code",
   "execution_count": 14,
   "metadata": {},
   "outputs": [
    {
     "name": "stdout",
     "output_type": "stream",
     "text": [
      "[[356, 859], [1187, 923], [1141, 875], [1100, 675], [1164, 923], [1144, 392], [1304, 348], [1555, 900], [1160, 923], [691, 922], [1223, 828], [1168, 687], [1448, 909], [1144, 948], [1131, 948], [279, 779], [1114, 603], [1177, 866], [1147, 1532]]\n"
     ]
    }
   ],
   "source": [
    "print(eccs_indexed_old[55])"
   ]
  },
  {
   "cell_type": "code",
   "execution_count": 16,
   "metadata": {},
   "outputs": [
    {
     "name": "stdout",
     "output_type": "stream",
     "text": [
      "441517\n"
     ]
    }
   ],
   "source": [
    "print(len([item for sublist in eccs_indexed for item in sublist]))"
   ]
  },
  {
   "cell_type": "code",
   "execution_count": 17,
   "metadata": {},
   "outputs": [
    {
     "name": "stdout",
     "output_type": "stream",
     "text": [
      "441517\n"
     ]
    }
   ],
   "source": [
    "print(len([item for sublist in eccs_indexed_old for item in sublist]))"
   ]
  },
  {
   "cell_type": "code",
   "execution_count": null,
   "metadata": {},
   "outputs": [],
   "source": [
    "###### EVERYTHING BELOW THIS LINE IS CLEAN CODE TO BE ADDED TO THE SCRIPT DONT MESS WITH IT #####"
   ]
  },
  {
   "cell_type": "code",
   "execution_count": null,
   "metadata": {},
   "outputs": [],
   "source": [
    "### to replace scaffold string catching script ###"
   ]
  },
  {
   "cell_type": "code",
   "execution_count": null,
   "metadata": {},
   "outputs": [],
   "source": [
    "#just catching scaffold string for output\n",
    "with open('getsrloc_test.bed', newline = '') as scaffold:\n",
    "    scaffold_reader = csv.reader(scaffold, delimiter = '\\t')\n",
    "    for row in scaffold_reader:\n",
    "        scaffold_string1 = row[0][:10]\n",
    "        scaffold_string2 = row[0][12:]\n",
    "        break"
   ]
  },
  {
   "cell_type": "code",
   "execution_count": null,
   "metadata": {},
   "outputs": [],
   "source": [
    "## to replace input from getsrloc_test.bed"
   ]
  },
  {
   "cell_type": "code",
   "execution_count": null,
   "metadata": {},
   "outputs": [],
   "source": [
    "# merge split read locations resulting in a putative ecc location\n",
    "# open putative ecc list and index to speed up confirming eccs\n",
    "with open('getsrloc_test.bed', newline = '') as file:\n",
    "    file_reader = csv.reader(file, delimiter = '\\t')\n",
    "    eccs_indexed = [[] for i in range(scaffold_number)]\n",
    "    for row1 in file_reader:\n",
    "        row2 = next(file_reader)\n",
    "        ecc_loc_raw = sorted([int(row1[1]), int(row1[2]), int(row2[1]), int(row2[2])])\n",
    "        ecc_loc = [ecc_loc_raw[0], ecc_loc_raw[3]]\n",
    "        eccs_indexed[(int(row1[0][10:12])-1)].append(ecc_loc)"
   ]
  }
 ],
 "metadata": {
  "kernelspec": {
   "display_name": "Python 3.6",
   "language": "python",
   "name": "python3.6"
  },
  "language_info": {
   "codemirror_mode": {
    "name": "ipython",
    "version": 3
   },
   "file_extension": ".py",
   "mimetype": "text/x-python",
   "name": "python",
   "nbconvert_exporter": "python",
   "pygments_lexer": "ipython3",
   "version": "3.6.8"
  }
 },
 "nbformat": 4,
 "nbformat_minor": 2
}
