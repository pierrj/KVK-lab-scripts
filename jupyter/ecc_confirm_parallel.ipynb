{
 "cells": [
  {
   "cell_type": "code",
   "execution_count": 4,
   "metadata": {},
   "outputs": [],
   "source": [
    "import csv\n",
    "import ipyparallel as ipp\n",
    "import timeit\n",
    "import sys\n",
    "from itertools import groupby"
   ]
  },
  {
   "cell_type": "code",
   "execution_count": 13,
   "metadata": {},
   "outputs": [],
   "source": [
    "with open('/global/home/users/pierrj/testfiles/500.testbedtools.processed', newline = '') as eccloc:\n",
    "    eccloc_reader = csv.reader(eccloc, delimiter = '\\t')\n",
    "    eccloc_list = [[int(row[0][10:12]), int(row[1]), int(row[2])] for row in eccloc_reader]\n",
    "    \n",
    "with open('/global/home/users/pierrj/testfiles/500.testbedtools.processed', newline = '') as eccloc:\n",
    "    eccloc_reader = csv.reader(eccloc, delimiter = '\\t')\n",
    "    eccloc_list_forindex = [[int(row[0][10:12]) - 1, int(row[1]), int(row[2])] for row in eccloc_reader]\n",
    "    \n",
    "with open('/global/home/users/pierrj/testfiles/sorted.discordantmappedreads.oppositefacing.bed', newline = '') as discordant:\n",
    "    discordant_reader = csv.reader(discordant, delimiter = '\\t')\n",
    "    discordant_list = [[int(row[0][10:12]), int(row[1]), int(row[2])] for row in discordant_reader]"
   ]
  },
  {
   "cell_type": "code",
   "execution_count": 5,
   "metadata": {},
   "outputs": [],
   "source": [
    "discordant_indexed = [[x[1:] for x in g] for k, g in groupby(discordant_list, key = lambda x: x[0])]"
   ]
  },
  {
   "cell_type": "code",
   "execution_count": 37,
   "metadata": {},
   "outputs": [],
   "source": [
    "def get_size(obj, seen=None):\n",
    "\n",
    "    \"\"\"Recursively finds size of objects\"\"\"\n",
    "\n",
    "    size = sys.getsizeof(obj)\n",
    "\n",
    "    if seen is None:\n",
    "\n",
    "        seen = set()\n",
    "\n",
    "    obj_id = id(obj)\n",
    "\n",
    "    if obj_id in seen:\n",
    "\n",
    "        return 0\n",
    "\n",
    "    # Important mark as seen *before* entering recursion to gracefully handle\n",
    "\n",
    "    # self-referential objects\n",
    "\n",
    "    seen.add(obj_id)\n",
    "\n",
    "    if isinstance(obj, dict):\n",
    "\n",
    "        size += sum([get_size(v, seen) for v in obj.values()])\n",
    "\n",
    "        size += sum([get_size(k, seen) for k in obj.keys()])\n",
    "\n",
    "    elif hasattr(obj, '__dict__'):\n",
    "\n",
    "        size += get_size(obj.__dict__, seen)\n",
    "\n",
    "    elif hasattr(obj, '__iter__') and not isinstance(obj, (str, bytes, bytearray)):\n",
    "\n",
    "        size += sum([get_size(i, seen) for i in obj])\n",
    "\n",
    "    return size"
   ]
  },
  {
   "cell_type": "code",
   "execution_count": 6,
   "metadata": {},
   "outputs": [],
   "source": [
    "def confirmeccs_noindex(ecc):\n",
    "    for i in range(0, len(discordant_list), 2):\n",
    "        read1 = discordant_list[i]\n",
    "        read2 = discordant_list[i+1]\n",
    "        if read1[0]==ecc[0]==read2[0]:\n",
    "            if ecc[1] <= read1[1] <= ecc[2] and ecc[1] <= read1[2] <= ecc[2] and ecc[1] <= read2[1] <= ecc[2] and ecc[1] <= read2[2] <= ecc[2]:\n",
    "                return True\n",
    "    return False"
   ]
  },
  {
   "cell_type": "code",
   "execution_count": 21,
   "metadata": {},
   "outputs": [],
   "source": [
    "def confirmeccs(ecc):\n",
    "    for i in range(0, len(discordant_indexed[ecc[0]]), 2):\n",
    "        read1 = discordant_indexed[ecc[0]][i]\n",
    "        read2 = discordant_indexed[ecc[0]][i+1]\n",
    "        if ecc[1] <= read1[0] <= ecc[2] and ecc[1] <= read1[1] <= ecc[2] and ecc[1] <= read2[0] <= ecc[2] and ecc[1] <= read2[1] <= ecc[2]:\n",
    "            return True\n",
    "    return False"
   ]
  },
  {
   "cell_type": "code",
   "execution_count": 22,
   "metadata": {},
   "outputs": [],
   "source": [
    "yesornoeccs = list(map(confirmeccs, eccloc_list_forindex))"
   ]
  },
  {
   "cell_type": "code",
   "execution_count": 17,
   "metadata": {},
   "outputs": [],
   "source": [
    "yesornoeccs_noindex = list(map(confirmeccs_noindex, eccloc_list))"
   ]
  },
  {
   "cell_type": "code",
   "execution_count": 23,
   "metadata": {},
   "outputs": [
    {
     "data": {
      "text/plain": [
       "True"
      ]
     },
     "execution_count": 23,
     "metadata": {},
     "output_type": "execute_result"
    }
   ],
   "source": [
    "yesornoeccs == yesornoeccs_noindex"
   ]
  },
  {
   "cell_type": "code",
   "execution_count": 45,
   "metadata": {},
   "outputs": [],
   "source": [
    "from itertools import compress"
   ]
  },
  {
   "cell_type": "code",
   "execution_count": 49,
   "metadata": {},
   "outputs": [],
   "source": [
    "confirmedeccs = list(compress(eccloc_list, yesornoeccs))"
   ]
  },
  {
   "cell_type": "code",
   "execution_count": 25,
   "metadata": {
    "scrolled": true
   },
   "outputs": [
    {
     "name": "stdout",
     "output_type": "stream",
     "text": [
      "5.66011764574796\n",
      "83.16817372618243\n"
     ]
    }
   ],
   "source": [
    "start_time = timeit.default_timer()\n",
    "yesornoeccs = list(map(confirmeccs, eccloc_list_forindex))\n",
    "print(timeit.default_timer() - start_time)\n",
    "\n",
    "start_time = timeit.default_timer()\n",
    "yesornoeccs_noindex = list(map(confirmeccs_noindex, eccloc_list))\n",
    "print(timeit.default_timer() - start_time)"
   ]
  },
  {
   "cell_type": "code",
   "execution_count": 50,
   "metadata": {},
   "outputs": [],
   "source": [
    "with open('parallel.confirmed', 'w', newline = '') as confirmed:\n",
    "    w = csv.writer(confirmed, delimiter = '\\t')\n",
    "    w.writerows(confirmedeccs)"
   ]
  }
 ],
 "metadata": {
  "kernelspec": {
   "display_name": "Python 3.6",
   "language": "python",
   "name": "python3.6"
  },
  "language_info": {
   "codemirror_mode": {
    "name": "ipython",
    "version": 3
   },
   "file_extension": ".py",
   "mimetype": "text/x-python",
   "name": "python",
   "nbconvert_exporter": "python",
   "pygments_lexer": "ipython3",
   "version": "3.6.4"
  }
 },
 "nbformat": 4,
 "nbformat_minor": 2
}
