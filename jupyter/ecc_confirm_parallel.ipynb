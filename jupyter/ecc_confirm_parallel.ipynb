{
 "cells": [
  {
   "cell_type": "code",
   "execution_count": 4,
   "metadata": {},
   "outputs": [],
   "source": [
    "import csv\n",
    "import ipyparallel as ipp\n",
    "import timeit\n",
    "import sys\n",
    "from itertools import groupby"
   ]
  },
  {
   "cell_type": "code",
   "execution_count": 13,
   "metadata": {},
   "outputs": [],
   "source": [
    "with open('/global/home/users/pierrj/testfiles/500.testbedtools.processed', newline = '') as eccloc:\n",
    "    eccloc_reader = csv.reader(eccloc, delimiter = '\\t')\n",
    "    eccloc_list = [[int(row[0][10:12]), int(row[1]), int(row[2])] for row in eccloc_reader]\n",
    "    \n",
    "with open('/global/home/users/pierrj/testfiles/500.testbedtools.processed', newline = '') as eccloc:\n",
    "    eccloc_reader = csv.reader(eccloc, delimiter = '\\t')\n",
    "    eccloc_list_forindex = [[int(row[0][10:12]) - 1, int(row[1]), int(row[2])] for row in eccloc_reader]\n",
    "    \n",
    "with open('/global/home/users/pierrj/testfiles/sorted.discordantmappedreads.oppositefacing.bed', newline = '') as discordant:\n",
    "    discordant_reader = csv.reader(discordant, delimiter = '\\t')\n",
    "    discordant_list = [[int(row[0][10:12]), int(row[1]), int(row[2])] for row in discordant_reader]"
   ]
  },
  {
   "cell_type": "code",
   "execution_count": 5,
   "metadata": {},
   "outputs": [],
   "source": [
    "discordant_indexed = [[x[1:] for x in g] for k, g in groupby(discordant_list, key = lambda x: x[0])]"
   ]
  },
  {
   "cell_type": "code",
   "execution_count": 37,
   "metadata": {},
   "outputs": [],
   "source": [
    "def get_size(obj, seen=None):\n",
    "\n",
    "    \"\"\"Recursively finds size of objects\"\"\"\n",
    "\n",
    "    size = sys.getsizeof(obj)\n",
    "\n",
    "    if seen is None:\n",
    "\n",
    "        seen = set()\n",
    "\n",
    "    obj_id = id(obj)\n",
    "\n",
    "    if obj_id in seen:\n",
    "\n",
    "        return 0\n",
    "\n",
    "    # Important mark as seen *before* entering recursion to gracefully handle\n",
    "\n",
    "    # self-referential objects\n",
    "\n",
    "    seen.add(obj_id)\n",
    "\n",
    "    if isinstance(obj, dict):\n",
    "\n",
    "        size += sum([get_size(v, seen) for v in obj.values()])\n",
    "\n",
    "        size += sum([get_size(k, seen) for k in obj.keys()])\n",
    "\n",
    "    elif hasattr(obj, '__dict__'):\n",
    "\n",
    "        size += get_size(obj.__dict__, seen)\n",
    "\n",
    "    elif hasattr(obj, '__iter__') and not isinstance(obj, (str, bytes, bytearray)):\n",
    "\n",
    "        size += sum([get_size(i, seen) for i in obj])\n",
    "\n",
    "    return size"
   ]
  },
  {
   "cell_type": "code",
   "execution_count": 6,
   "metadata": {},
   "outputs": [],
   "source": [
    "def confirmeccs_noindex(ecc):\n",
    "    for i in range(0, len(discordant_list), 2):\n",
    "        read1 = discordant_list[i]\n",
    "        read2 = discordant_list[i+1]\n",
    "        if read1[0]==ecc[0]==read2[0]:\n",
    "            if ecc[1] <= read1[1] <= ecc[2] and ecc[1] <= read1[2] <= ecc[2] and ecc[1] <= read2[1] <= ecc[2] and ecc[1] <= read2[2] <= ecc[2]:\n",
    "                return True\n",
    "    return False"
   ]
  },
  {
   "cell_type": "code",
   "execution_count": 21,
   "metadata": {},
   "outputs": [],
   "source": [
    "def confirmeccs(ecc):\n",
    "    for i in range(0, len(discordant_indexed[ecc[0]]), 2):\n",
    "        read1 = discordant_indexed[ecc[0]][i]\n",
    "        read2 = discordant_indexed[ecc[0]][i+1]\n",
    "        if ecc[1] <= read1[0] <= ecc[2] and ecc[1] <= read1[1] <= ecc[2] and ecc[1] <= read2[0] <= ecc[2] and ecc[1] <= read2[1] <= ecc[2]:\n",
    "            return True\n",
    "    return False"
   ]
  },
  {
   "cell_type": "code",
   "execution_count": 22,
   "metadata": {},
   "outputs": [],
   "source": [
    "yesornoeccs = list(map(confirmeccs, eccloc_list_forindex))"
   ]
  },
  {
   "cell_type": "code",
   "execution_count": 17,
   "metadata": {},
   "outputs": [],
   "source": [
    "yesornoeccs_noindex = list(map(confirmeccs_noindex, eccloc_list))"
   ]
  },
  {
   "cell_type": "code",
   "execution_count": 23,
   "metadata": {},
   "outputs": [
    {
     "data": {
      "text/plain": [
       "True"
      ]
     },
     "execution_count": 23,
     "metadata": {},
     "output_type": "execute_result"
    }
   ],
   "source": [
    "yesornoeccs == yesornoeccs_noindex"
   ]
  },
  {
   "cell_type": "code",
   "execution_count": 26,
   "metadata": {},
   "outputs": [],
   "source": [
    "from itertools import compress"
   ]
  },
  {
   "cell_type": "code",
   "execution_count": 27,
   "metadata": {},
   "outputs": [],
   "source": [
    "confirmedeccs = list(compress(eccloc_list_forindex, yesornoeccs))"
   ]
  },
  {
   "cell_type": "code",
   "execution_count": 28,
   "metadata": {},
   "outputs": [
    {
     "name": "stdout",
     "output_type": "stream",
     "text": [
      "[[14, 70735, 71303], [14, 349128, 349764], [2, 1674894, 1680235], [12, 355104, 356042], [2, 626071, 627316], [21, 209465, 209961], [4, 2696604, 2699034], [14, 132347, 132906], [9, 932917, 935653], [5, 1887602, 1889159], [8, 166497, 166880], [4, 3034338, 3034647], [1, 4945547, 4946469], [2, 573874, 575341], [11, 748313, 748925], [2, 3611761, 3616320], [7, 1295634, 1297723], [2, 3923725, 3924836], [4, 1884379, 1885179], [3, 1200621, 1200838], [8, 1087179, 1087434], [3, 3985805, 3986558], [12, 284307, 284726], [1, 2723079, 2723598], [4, 514531, 514923], [5, 1798055, 1799288], [0, 2572624, 2601296], [5, 1639975, 1640643], [2, 42591, 969033], [2, 969033, 974891], [6, 301843, 302179], [1, 3651347, 3651857], [1, 2975018, 2975126], [0, 2766710, 2767281], [1, 4781704, 4783066], [4, 903719, 904716], [3, 2745821, 2747117], [3, 1922629, 1923069], [1, 3122436, 3122929], [18, 16213, 17324], [2, 2233907, 2234838], [0, 1856983, 1857333], [13, 629643, 630109], [4, 2329237, 2331733], [6, 1706117, 1706658], [0, 14440, 14942], [2, 1470754, 1471298], [1, 2714934, 2715312], [5, 1519529, 1519809], [0, 1677271, 1677565], [0, 1804500, 1805152], [5, 1920942, 1925468], [0, 1677271, 1677564], [5, 1791093, 1793324], [7, 2242641, 2242923], [0, 1340091, 1340368], [2, 730829, 732219], [1, 2097523, 2097808], [7, 1846788, 1847725], [7, 1085359, 1087331], [2, 452875, 453108], [1, 4415899, 4416370], [3, 3936947, 3939630], [6, 2061409, 2061895], [2, 231470, 232258], [5, 2078134, 2078497], [35, 4, 403], [2, 710837, 711176], [6, 2189778, 2191652], [16, 82152, 82653], [0, 178951, 179519], [25, 6233, 6490], [9, 498138, 499265], [2, 1289410, 1289880], [2, 4174892, 4177022], [11, 21162, 913303], [2, 1902558, 1906340], [2, 4526105, 4527865], [16, 330727, 331446], [6, 49164, 52890], [45, 5836, 6417], [3, 15123, 15608], [5, 1328682, 1332038], [2, 1149023, 1149276], [0, 3976642, 3978994], [1, 2311215, 2313319], [1, 2311211, 2313319], [9, 498138, 499273], [4, 894270, 894661], [3, 2730443, 2733401], [2, 95124, 96173], [4, 47461, 51154], [1, 1210323, 1213191], [1, 3530958, 3532187], [2, 2237941, 2241094], [10, 615371, 617634], [4, 2146296, 2149569], [0, 4176626, 4180066], [8, 483871, 484206], [0, 4613259, 4614194], [1, 2694761, 2695284], [1, 594231, 594624], [1, 2668065, 2670921], [3, 2646479, 2647141], [22, 67333, 69038], [1, 711367, 712351], [12, 177402, 178990], [46, 2271, 2821], [4, 1000210, 1001565], [18, 77480, 77977], [16, 217757, 219384], [1, 552190, 552481], [6, 1961520, 1961960], [12, 60812, 61222], [0, 1976397, 1977203], [6, 900973, 901807], [4, 2131818, 2132257], [10, 1050034, 1050487], [5, 2217749, 2218809], [1, 1452317, 1452710], [12, 166191, 166938], [0, 1187006, 1187892], [2, 4759741, 4761979], [15, 553557, 554412], [1, 2377854, 2378954], [11, 908767, 909201], [0, 3506270, 3506684], [0, 4761021, 4761545], [18, 95565, 95891], [4, 1307439, 1308094], [0, 3597142, 3597920], [0, 1677271, 1677576], [3, 4171866, 4172255], [14, 740240, 740710], [12, 166183, 166938], [2, 4577058, 4577565], [4, 908287, 910420], [0, 701886, 702453], [10, 377797, 397579], [2, 2658183, 2658771], [26, 21600, 21900], [2, 4279858, 4283063], [1, 1782380, 1784095], [2, 4872041, 4877679], [3, 3689120, 3690061]]\n"
     ]
    }
   ],
   "source": [
    "print(confirmedeccs)"
   ]
  },
  {
   "cell_type": "code",
   "execution_count": 25,
   "metadata": {
    "scrolled": true
   },
   "outputs": [
    {
     "name": "stdout",
     "output_type": "stream",
     "text": [
      "5.66011764574796\n",
      "83.16817372618243\n"
     ]
    }
   ],
   "source": [
    "start_time = timeit.default_timer()\n",
    "yesornoeccs = list(map(confirmeccs, eccloc_list_forindex))\n",
    "print(timeit.default_timer() - start_time)\n",
    "\n",
    "start_time = timeit.default_timer()\n",
    "yesornoeccs_noindex = list(map(confirmeccs_noindex, eccloc_list))\n",
    "print(timeit.default_timer() - start_time)"
   ]
  },
  {
   "cell_type": "code",
   "execution_count": 29,
   "metadata": {},
   "outputs": [],
   "source": [
    "with open('/global/home/users/pierrj/testfiles/500.confirmed', 'w', newline = '') as confirmed:\n",
    "    w = csv.writer(confirmed, delimiter = '\\t')\n",
    "    w.writerows(confirmedeccs)"
   ]
  }
 ],
 "metadata": {
  "kernelspec": {
   "display_name": "Python 3.6",
   "language": "python",
   "name": "python3.6"
  },
  "language_info": {
   "codemirror_mode": {
    "name": "ipython",
    "version": 3
   },
   "file_extension": ".py",
   "mimetype": "text/x-python",
   "name": "python",
   "nbconvert_exporter": "python",
   "pygments_lexer": "ipython3",
   "version": "3.6.4"
  }
 },
 "nbformat": 4,
 "nbformat_minor": 2
}
