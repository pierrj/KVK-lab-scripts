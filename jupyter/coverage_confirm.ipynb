{
 "cells": [
  {
   "cell_type": "code",
   "execution_count": 2,
   "metadata": {},
   "outputs": [],
   "source": [
    "import csv\n",
    "from itertools import groupby"
   ]
  },
  {
   "cell_type": "code",
   "execution_count": 3,
   "metadata": {},
   "outputs": [],
   "source": [
    "with open('/global/home/users/pierrj/testfiles/500.confirmed', newline = '') as confirmed:\n",
    "    confirmed_reader = csv.reader(confirmed, delimiter = '\\t')\n",
    "    confirmed_list = [[int(row[0]), int(row[1]), int(row[2])] for row in confirmed_reader]"
   ]
  },
  {
   "cell_type": "code",
   "execution_count": null,
   "metadata": {},
   "outputs": [],
   "source": [
    "with open('/global/home/users/pierrj/testfiles/genomecoverage_G3_1A_perbase') as coverage:\n",
    "    coverage_reader = csv.reader(coverage, delimiter = '\\t')\n",
    "    coverage_list = [[int(row[0][10:12]), int(row[1]), int(row[2])] for row in coverage_reader]"
   ]
  },
  {
   "cell_type": "code",
   "execution_count": null,
   "metadata": {},
   "outputs": [],
   "source": [
    "coverage_indexed = [[x[1:] for x in g] for k, g in groupby(coverage_list, key = lambda x: x[0])]"
   ]
  },
  {
   "cell_type": "code",
   "execution_count": null,
   "metadata": {},
   "outputs": [],
   "source": [
    "def checkcoverage(ecc):\n",
    "    "
   ]
  }
 ],
 "metadata": {
  "kernelspec": {
   "display_name": "Python 3.6",
   "language": "python",
   "name": "python3.6"
  },
  "language_info": {
   "codemirror_mode": {
    "name": "ipython",
    "version": 3
   },
   "file_extension": ".py",
   "mimetype": "text/x-python",
   "name": "python",
   "nbconvert_exporter": "python",
   "pygments_lexer": "ipython3",
   "version": "3.6.4"
  }
 },
 "nbformat": 4,
 "nbformat_minor": 2
}
