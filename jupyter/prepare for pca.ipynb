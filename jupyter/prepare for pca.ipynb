{
 "cells": [
  {
   "cell_type": "code",
   "execution_count": 1,
   "metadata": {},
   "outputs": [],
   "source": [
    "import csv\n",
    "import ipyparallel as ipp\n",
    "from itertools import groupby\n",
    "from itertools import compress\n",
    "import subprocess\n",
    "import statistics\n",
    "import collections\n",
    "import sys\n",
    "import os"
   ]
  },
  {
   "cell_type": "code",
   "execution_count": 7,
   "metadata": {},
   "outputs": [],
   "source": [
    "scale = 0.00000428999 * 1000000\n",
    "with open('C:\\globus\\merged_tests\\coverage.parallel.confirmed.CT_1A.bed') as confirmed:\n",
    "    confirmed_reader = csv.reader(confirmed, delimiter = '\\t')\n",
    "    confirmed_list_a = [[int(row[0][10:12])-1, int(row[1])/scale] for row in confirmed_reader]"
   ]
  },
  {
   "cell_type": "code",
   "execution_count": 8,
   "metadata": {},
   "outputs": [
    {
     "name": "stdout",
     "output_type": "stream",
     "text": [
      "[[0, 0.2331007764586864], [0, 0.4662015529173728], [0, 0.6993023293760592], [0, 0.9324031058347456], [0, 1.165503882293432], [0, 1.3986046587521184], [0, 1.631705435210805], [0, 1.8648062116694912], [0, 2.0979069881281776], [0, 2.331007764586864]]\n"
     ]
    }
   ],
   "source": [
    "print(confirmed_list_a[0:10])"
   ]
  }
 ],
 "metadata": {
  "kernelspec": {
   "display_name": "Python 3",
   "language": "python",
   "name": "python3"
  },
  "language_info": {
   "codemirror_mode": {
    "name": "ipython",
    "version": 3
   },
   "file_extension": ".py",
   "mimetype": "text/x-python",
   "name": "python",
   "nbconvert_exporter": "python",
   "pygments_lexer": "ipython3",
   "version": "3.7.6"
  }
 },
 "nbformat": 4,
 "nbformat_minor": 4
}
