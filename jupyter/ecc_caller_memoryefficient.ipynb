{
 "cells": [
  {
   "cell_type": "code",
   "execution_count": 1,
   "metadata": {},
   "outputs": [],
   "source": [
    "import csv\n",
    "import ipyparallel as ipp\n",
    "from itertools import groupby\n",
    "from itertools import compress\n",
    "import subprocess\n",
    "import statistics\n",
    "import collections\n",
    "import sys\n",
    "import os"
   ]
  },
  {
   "cell_type": "code",
   "execution_count": 28,
   "metadata": {},
   "outputs": [],
   "source": [
    "with open('/global/scratch/users/pierrj/eccDNA/magnaporthe_pureculture/rawdata/illumina/pureculture_samples/G3_1A/ecc_callerv2/fullfulltest/merged.getsrloc_test', newline = '') as eccloc:\n",
    "    eccloc_reader = csv.reader(eccloc, delimiter = '\\t')\n",
    "    eccloc_list = [[int(row[0][10:12]) - 1, int(row[1]), int(row[2])] for row in eccloc_reader]"
   ]
  },
  {
   "cell_type": "code",
   "execution_count": 3,
   "metadata": {},
   "outputs": [],
   "source": [
    "outwardfacing_read_file = '/global/scratch/users/pierrj/eccDNA/magnaporthe_pureculture/rawdata/illumina/pureculture_samples/G3_1A/ecc_callerv2/fullfulltest/outwardfacing.mergedandpe.G3_1A_bwamem.bed'\n",
    "scaffold_number = 56"
   ]
  },
  {
   "cell_type": "code",
   "execution_count": 35,
   "metadata": {},
   "outputs": [],
   "source": [
    "with open(outwardfacing_read_file, newline = '') as discordant:\n",
    "    discordant_reader = csv.reader(discordant, delimiter = '\\t')\n",
    "    # index discordant read file so that confirmeccs() only looks at discordant reads found on the same chromosome\n",
    "    discordant_indexed = [[] for i in range(scaffold_number)]\n",
    "    for row in discordant_reader:\n",
    "        discordant_indexed[(int(row[0][10:12])-1)].append([int(row[1]), int(row[2])])"
   ]
  },
  {
   "cell_type": "code",
   "execution_count": 5,
   "metadata": {},
   "outputs": [],
   "source": [
    "with open(outwardfacing_read_file, newline = '') as discordant:\n",
    "    discordant_reader = csv.reader(discordant, delimiter = '\\t')\n",
    "    # index discordant read file so that confirmeccs() only looks at discordant reads found on the same chromosome\n",
    "    discordant_list = []\n",
    "    for reada in discordant_reader:\n",
    "        readb = next(discordant_reader)\n",
    "        if int(reada[1]) < int(readb[1]):\n",
    "            read1 = reada\n",
    "            read2 = readb\n",
    "        else:\n",
    "            read1 = readb\n",
    "            read2 = reada\n",
    "        discordant_list.append([int(reada[0][10:12])-1, int(read1[1]), int(read1[2]), int(read2[1]), int(read2[2])])"
   ]
  },
  {
   "cell_type": "code",
   "execution_count": 13,
   "metadata": {},
   "outputs": [],
   "source": [
    "with open('/global/scratch/users/pierrj/eccDNA/magnaporthe_pureculture/rawdata/illumina/pureculture_samples/G3_1A/ecc_callerv2/fullfulltest/merged.getsrloc_test', newline = '') as ecc:\n",
    "    ecc_reader = csv.reader(ecc, delimiter = '\\t')\n",
    "    # index ecc read file so that confirmeccs() only looks at eccs found on the same chromosome\n",
    "    eccs_indexed = [[] for i in range(scaffold_number)]\n",
    "    for row in ecc_reader:\n",
    "        eccs_indexed[(int(row[0][10:12])-1)].append([int(row[1]), int(row[2])])"
   ]
  },
  {
   "cell_type": "code",
   "execution_count": 14,
   "metadata": {},
   "outputs": [
    {
     "name": "stdout",
     "output_type": "stream",
     "text": [
      "56\n"
     ]
    }
   ],
   "source": [
    "print(len(eccs_indexed))"
   ]
  },
  {
   "cell_type": "code",
   "execution_count": 15,
   "metadata": {},
   "outputs": [
    {
     "name": "stdout",
     "output_type": "stream",
     "text": [
      "[[356, 859], [1187, 923], [1141, 875], [1100, 675], [1164, 923], [1144, 392], [1304, 348], [1555, 900], [1160, 923], [691, 922], [1223, 828], [1168, 687], [1448, 909], [1144, 948], [1131, 948], [279, 779], [1114, 603], [1177, 866], [1147, 1532]]\n"
     ]
    }
   ],
   "source": [
    "print(eccs_indexed[55])"
   ]
  },
  {
   "cell_type": "code",
   "execution_count": 16,
   "metadata": {},
   "outputs": [
    {
     "name": "stdout",
     "output_type": "stream",
     "text": [
      "[[9, 207004, 244191], [15, 576686, 576764], [14, 70735, 71303], [3, 684586, 684857], [12, 355104, 356042], [6, 2278376, 2278518], [4, 2586951, 2587611], [9, 129756, 131009], [1, 1648606, 1649606], [7, 1807257, 1807649]]\n"
     ]
    }
   ],
   "source": [
    "print(eccloc_list_old[:10])"
   ]
  },
  {
   "cell_type": "code",
   "execution_count": 7,
   "metadata": {},
   "outputs": [
    {
     "name": "stdout",
     "output_type": "stream",
     "text": [
      "[[1136, 1287], [1385, 1536], [1067, 1218], [867, 1018], [593, 744], [420, 571], [874, 1025], [1035, 1186], [491, 642], [917, 1068], [1286, 1437], [372, 523], [543, 694], [374, 520], [905, 1056], [1077, 1228], [826, 977], [405, 556], [924, 1075], [492, 643], [1462, 1594], [1154, 1305], [1095, 1224], [1350, 1501], [1100, 1251], [889, 1040], [618, 769], [908, 1059], [1390, 1541], [1142, 1293], [882, 1033], [1088, 1237], [450, 601], [651, 772], [884, 1035], [598, 737], [983, 1134], [469, 620], [1092, 1243], [873, 1014], [1095, 1219], [1351, 1502], [923, 1074], [1115, 1266], [558, 707], [405, 556], [1253, 1404], [65, 216], [1053, 1204], [550, 701], [1013, 1164], [520, 671], [307, 458], [560, 711], [1331, 1482], [1524, 1649], [1403, 1530], [1050, 1201], [597, 748], [359, 510], [1133, 1284], [1303, 1454], [1005, 1156], [636, 741], [782, 933], [453, 560], [877, 1006], [1193, 1344], [1168, 1319], [885, 1034], [498, 649], [963, 1114], [986, 1112], [804, 955], [991, 1142], [784, 923], [1349, 1500], [1107, 1255], [867, 1018], [537, 688], [886, 1037], [552, 703], [98, 249], [849, 1000], [98, 249], [849, 1000], [481, 632], [968, 1119], [1041, 1192], [889, 1040], [910, 1046], [1052, 1203], [1270, 1421], [916, 1067], [1341, 1492], [1050, 1190], [1200, 1351], [1390, 1541], [488, 639], [892, 1043], [1145, 1296], [1483, 1634], [546, 697], [900, 1051], [1380, 1531], [1108, 1259], [851, 1002], [598, 724], [1192, 1325], [997, 1148], [595, 746], [1138, 1282], [1408, 1540], [1058, 1209], [510, 647], [91, 242], [607, 758], [863, 1014], [1316, 1467], [958, 1090], [325, 476], [1031, 1182], [891, 1042], [584, 735], [495, 646], [1088, 1239], [845, 996], [1008, 1144], [1284, 1435], [865, 1016], [412, 563], [1132, 1259], [1095, 1223], [1326, 1477], [350, 501], [7, 158], [691, 745], [4, 155], [623, 774], [929, 1080], [1432, 1583], [1000, 1151], [549, 647], [292, 440], [921, 1072], [497, 648], [98, 249], [970, 1121], [1118, 1269], [1512, 1649], [434, 585], [712, 748], [555, 706], [997, 1121], [999, 1128], [585, 736], [1107, 1258], [886, 1037], [1104, 1255], [797, 948], [1073, 1177], [628, 736], [901, 1052], [1088, 1239], [957, 1108], [1111, 1239], [606, 747], [402, 537], [919, 1031], [636, 694], [911, 1062], [1078, 1229], [815, 966], [1448, 1599], [1316, 1467], [1147, 1298], [1264, 1415], [950, 1101], [1114, 1265], [1364, 1515], [21, 172], [498, 649], [896, 1047], [1078, 1229], [784, 908], [999, 1150], [621, 772], [426, 504], [328, 479], [36, 187], [914, 1065], [504, 655], [1051, 1197], [890, 1041], [510, 661], [979, 1130], [1000, 1129], [846, 997], [1064, 1215], [912, 1063], [967, 1118], [609, 760], [1393, 1544], [1235, 1386], [47, 198], [433, 570], [1176, 1327], [522, 673], [321, 472], [65, 213], [598, 747], [389, 540], [819, 952], [348, 499], [1486, 1637], [1140, 1291], [1339, 1490], [1031, 1182], [1036, 1186], [1295, 1446], [1005, 1153], [549, 700], [952, 1103], [1121, 1240], [950, 1101], [1429, 1580], [1212, 1349], [975, 1126], [954, 1105], [1163, 1239], [1405, 1556], [74, 225], [1236, 1387], [1472, 1619], [1088, 1239], [1485, 1636], [1460, 1611], [910, 1055], [975, 1126], [1273, 1424], [1494, 1633], [981, 1132], [922, 1073], [1089, 1240], [836, 972], [1109, 1260], [1021, 1172], [788, 939], [878, 1029], [1052, 1203], [1037, 1188], [832, 968], [1064, 1215], [866, 993], [942, 1087], [442, 593], [1107, 1237], [929, 1080], [818, 969], [436, 578], [923, 1074], [1101, 1239], [32, 183], [392, 543], [409, 532], [573, 724], [253, 393], [1469, 1620], [1054, 1129], [880, 1031], [543, 694], [1103, 1254], [1054, 1205], [832, 981], [471, 622], [1471, 1614], [423, 552], [609, 760], [1116, 1239], [933, 1084], [789, 940], [1393, 1544], [622, 766], [852, 1003], [1061, 1212], [923, 1060], [1512, 1649], [948, 1099], [345, 496], [580, 731], [1095, 1239], [884, 1035], [1202, 1353], [784, 935], [1161, 1312], [442, 593], [925, 1076], [1183, 1325], [923, 1062], [1080, 1231], [1093, 1235], [817, 968], [1483, 1634], [1184, 1335]]\n"
     ]
    }
   ],
   "source": [
    "print(discordant_indexed_old[55])"
   ]
  },
  {
   "cell_type": "code",
   "execution_count": 10,
   "metadata": {},
   "outputs": [
    {
     "name": "stdout",
     "output_type": "stream",
     "text": [
      "[[1, 529327, 529478, 531216, 531367], [5, 530228, 530379, 530459, 530591]]\n"
     ]
    }
   ],
   "source": [
    "print(discordant_list[-2:])"
   ]
  },
  {
   "cell_type": "code",
   "execution_count": 28,
   "metadata": {},
   "outputs": [
    {
     "name": "stdout",
     "output_type": "stream",
     "text": [
      "46282.0\n"
     ]
    }
   ],
   "source": [
    "print(len(discordant_indexed[20])/2)"
   ]
  },
  {
   "cell_type": "code",
   "execution_count": 30,
   "metadata": {},
   "outputs": [
    {
     "name": "stdout",
     "output_type": "stream",
     "text": [
      "46282\n"
     ]
    }
   ],
   "source": [
    "print(len(discordant_indexed_re[20]))"
   ]
  },
  {
   "cell_type": "code",
   "execution_count": 51,
   "metadata": {},
   "outputs": [],
   "source": [
    "def confirmeccs_old(ecc):\n",
    "    for i in range(0, len(discordant_indexed[ecc[0]]), 2):\n",
    "        reada = discordant_indexed[ecc[0]][i]\n",
    "        readb = discordant_indexed[ecc[0]][i+1]\n",
    "        # on the fly sorting because the discordant reads are next to each other but not sorted by base position\n",
    "        if reada[0] < readb[0]:\n",
    "            read1 = reada\n",
    "            read2 = readb\n",
    "        else:\n",
    "            read1 = readb\n",
    "            read2 = reada\n",
    "        if ecc[1] <= read1[0] <= ecc[2] and ecc[1] <= read1[1] <= ecc[2] and ecc[1] <= read2[0] <= ecc[2] and ecc[1] <= read2[1] <= ecc[2]:\n",
    "            # calculate total distance from ecc start and end\n",
    "            distance = abs(read1[1] - ecc[1]) + abs(read2[0] - ecc[2])\n",
    "            # set here for insert size distribution\n",
    "            if distance <= 500:\n",
    "                return True\n",
    "    return False"
   ]
  },
  {
   "cell_type": "code",
   "execution_count": 99,
   "metadata": {},
   "outputs": [],
   "source": [
    "def confirmeccs(discordant_readpair):\n",
    "    ecc_list = []\n",
    "    for i in range(0, len(eccs_indexed[discordant_readpair[0]])):\n",
    "        ecc = eccs_indexed[discordant_readpair[0]][i]\n",
    "        read1_start = discordant_readpair[1]\n",
    "        read1_end = discordant_readpair[2]\n",
    "        read2_start = discordant_readpair[3]\n",
    "        read2_end = discordant_readpair[4]\n",
    "        if ecc[0] <= read1_start <= ecc[1] and ecc[0] <= read1_end <= ecc[1] and ecc[0] <= read2_start <= ecc[1] and ecc[0] <= read2_end <= ecc[1]:\n",
    "            # calculate total distance from ecc start and end\n",
    "            distance = abs(read1_end - ecc[0]) + abs(read2_start - ecc[1])\n",
    "            # set here for insert size distribution\n",
    "            if distance <= 500:\n",
    "                ecc_to_add = [discordant_readpair[0] ,ecc[0], ecc[1]]\n",
    "                ecc_list.append(ecc_to_add)\n",
    "    if ecc_list != []:\n",
    "        return ecc_list"
   ]
  },
  {
   "cell_type": "code",
   "execution_count": 17,
   "metadata": {},
   "outputs": [
    {
     "name": "stdout",
     "output_type": "stream",
     "text": [
      "[[1, 529327, 529478, 531216, 531367], [5, 530228, 530379, 530459, 530591]]\n"
     ]
    }
   ],
   "source": [
    "print(discordant_list[-2:])"
   ]
  },
  {
   "cell_type": "code",
   "execution_count": 32,
   "metadata": {},
   "outputs": [
    {
     "name": "stdout",
     "output_type": "stream",
     "text": [
      "19\n"
     ]
    }
   ],
   "source": [
    "print(len(eccs_indexed[55]))"
   ]
  },
  {
   "cell_type": "code",
   "execution_count": 23,
   "metadata": {},
   "outputs": [],
   "source": [
    "discordant_list55 = []\n",
    "for i in range(len(discordant_list)):\n",
    "    if discordant_list[i][0] == 55:\n",
    "        discordant_list55.append(discordant_list[i])"
   ]
  },
  {
   "cell_type": "code",
   "execution_count": 24,
   "metadata": {},
   "outputs": [
    {
     "name": "stdout",
     "output_type": "stream",
     "text": [
      "[[55, 1136, 1287, 1385, 1536], [55, 867, 1018, 1067, 1218], [55, 420, 571, 593, 744], [55, 874, 1025, 1035, 1186], [55, 491, 642, 917, 1068], [55, 372, 523, 1286, 1437], [55, 374, 520, 543, 694], [55, 905, 1056, 1077, 1228], [55, 405, 556, 826, 977], [55, 492, 643, 924, 1075], [55, 1154, 1305, 1462, 1594], [55, 1095, 1224, 1350, 1501], [55, 889, 1040, 1100, 1251], [55, 618, 769, 908, 1059], [55, 1142, 1293, 1390, 1541], [55, 882, 1033, 1088, 1237], [55, 450, 601, 651, 772], [55, 598, 737, 884, 1035], [55, 469, 620, 983, 1134], [55, 873, 1014, 1092, 1243], [55, 1095, 1219, 1351, 1502], [55, 923, 1074, 1115, 1266], [55, 405, 556, 558, 707], [55, 65, 216, 1253, 1404], [55, 550, 701, 1053, 1204], [55, 520, 671, 1013, 1164], [55, 307, 458, 560, 711], [55, 1331, 1482, 1524, 1649], [55, 1050, 1201, 1403, 1530], [55, 359, 510, 597, 748], [55, 1133, 1284, 1303, 1454], [55, 636, 741, 1005, 1156], [55, 453, 560, 782, 933], [55, 877, 1006, 1193, 1344], [55, 885, 1034, 1168, 1319], [55, 498, 649, 963, 1114], [55, 804, 955, 986, 1112], [55, 784, 923, 991, 1142], [55, 1107, 1255, 1349, 1500], [55, 537, 688, 867, 1018], [55, 552, 703, 886, 1037], [55, 98, 249, 849, 1000], [55, 98, 249, 849, 1000], [55, 481, 632, 968, 1119], [55, 889, 1040, 1041, 1192], [55, 910, 1046, 1052, 1203], [55, 916, 1067, 1270, 1421], [55, 1050, 1190, 1341, 1492], [55, 1200, 1351, 1390, 1541], [55, 488, 639, 892, 1043], [55, 1145, 1296, 1483, 1634], [55, 546, 697, 900, 1051], [55, 1108, 1259, 1380, 1531], [55, 598, 724, 851, 1002], [55, 997, 1148, 1192, 1325], [55, 595, 746, 1138, 1282], [55, 1058, 1209, 1408, 1540], [55, 91, 242, 510, 647], [55, 607, 758, 863, 1014], [55, 958, 1090, 1316, 1467], [55, 325, 476, 1031, 1182], [55, 584, 735, 891, 1042], [55, 495, 646, 1088, 1239], [55, 845, 996, 1008, 1144], [55, 865, 1016, 1284, 1435], [55, 412, 563, 1132, 1259], [55, 1095, 1223, 1326, 1477], [55, 7, 158, 350, 501], [55, 4, 155, 691, 745], [55, 623, 774, 929, 1080], [55, 1000, 1151, 1432, 1583], [55, 292, 440, 549, 647], [55, 497, 648, 921, 1072], [55, 98, 249, 970, 1121], [55, 1118, 1269, 1512, 1649], [55, 434, 585, 712, 748], [55, 555, 706, 997, 1121], [55, 585, 736, 999, 1128], [55, 886, 1037, 1107, 1258], [55, 797, 948, 1104, 1255], [55, 628, 736, 1073, 1177], [55, 901, 1052, 1088, 1239], [55, 957, 1108, 1111, 1239], [55, 402, 537, 606, 747], [55, 636, 694, 919, 1031], [55, 911, 1062, 1078, 1229], [55, 815, 966, 1448, 1599], [55, 1147, 1298, 1316, 1467], [55, 950, 1101, 1264, 1415], [55, 1114, 1265, 1364, 1515], [55, 21, 172, 498, 649], [55, 896, 1047, 1078, 1229], [55, 784, 908, 999, 1150], [55, 426, 504, 621, 772], [55, 36, 187, 328, 479], [55, 504, 655, 914, 1065], [55, 890, 1041, 1051, 1197], [55, 510, 661, 979, 1130], [55, 846, 997, 1000, 1129], [55, 912, 1063, 1064, 1215], [55, 609, 760, 967, 1118], [55, 1235, 1386, 1393, 1544], [55, 47, 198, 433, 570], [55, 522, 673, 1176, 1327], [55, 65, 213, 321, 472], [55, 389, 540, 598, 747], [55, 348, 499, 819, 952], [55, 1140, 1291, 1486, 1637], [55, 1031, 1182, 1339, 1490], [55, 1036, 1186, 1295, 1446], [55, 549, 700, 1005, 1153], [55, 952, 1103, 1121, 1240], [55, 950, 1101, 1429, 1580], [55, 975, 1126, 1212, 1349], [55, 954, 1105, 1163, 1239], [55, 74, 225, 1405, 1556], [55, 1236, 1387, 1472, 1619], [55, 1088, 1239, 1485, 1636], [55, 910, 1055, 1460, 1611], [55, 975, 1126, 1273, 1424], [55, 981, 1132, 1494, 1633], [55, 922, 1073, 1089, 1240], [55, 836, 972, 1109, 1260], [55, 788, 939, 1021, 1172], [55, 878, 1029, 1052, 1203], [55, 832, 968, 1037, 1188], [55, 866, 993, 1064, 1215], [55, 442, 593, 942, 1087], [55, 929, 1080, 1107, 1237], [55, 436, 578, 818, 969], [55, 923, 1074, 1101, 1239], [55, 32, 183, 392, 543], [55, 409, 532, 573, 724], [55, 253, 393, 1469, 1620], [55, 880, 1031, 1054, 1129], [55, 543, 694, 1103, 1254], [55, 832, 981, 1054, 1205], [55, 471, 622, 1471, 1614], [55, 423, 552, 609, 760], [55, 933, 1084, 1116, 1239], [55, 789, 940, 1393, 1544], [55, 622, 766, 852, 1003], [55, 923, 1060, 1061, 1212], [55, 948, 1099, 1512, 1649], [55, 345, 496, 580, 731], [55, 884, 1035, 1095, 1239], [55, 784, 935, 1202, 1353], [55, 442, 593, 1161, 1312], [55, 925, 1076, 1183, 1325], [55, 923, 1062, 1080, 1231], [55, 817, 968, 1093, 1235], [55, 1184, 1335, 1483, 1634]]\n"
     ]
    }
   ],
   "source": [
    "print(discordant_list55)"
   ]
  },
  {
   "cell_type": "code",
   "execution_count": 30,
   "metadata": {},
   "outputs": [],
   "source": [
    "eccloc_list55 = []\n",
    "for i in range(len(eccloc_list)):\n",
    "    if eccloc_list[i][0] == 55:\n",
    "        eccloc_list55.append(eccloc_list[i])"
   ]
  },
  {
   "cell_type": "code",
   "execution_count": 33,
   "metadata": {},
   "outputs": [
    {
     "name": "stdout",
     "output_type": "stream",
     "text": [
      "19\n"
     ]
    }
   ],
   "source": [
    "print(len(eccloc_list55))"
   ]
  },
  {
   "cell_type": "code",
   "execution_count": 36,
   "metadata": {},
   "outputs": [
    {
     "name": "stdout",
     "output_type": "stream",
     "text": [
      "304\n",
      "152\n"
     ]
    }
   ],
   "source": [
    "print(len(discordant_indexed[55]))\n",
    "print(len(discordant_list55))"
   ]
  },
  {
   "cell_type": "code",
   "execution_count": 38,
   "metadata": {},
   "outputs": [],
   "source": [
    "yesornoeccs_old = list(map(confirmeccs_old, eccloc_list55))\n",
    "confirmedeccs_old = list(compress(eccloc_list55, yesornoeccs_old))"
   ]
  },
  {
   "cell_type": "code",
   "execution_count": 39,
   "metadata": {},
   "outputs": [
    {
     "name": "stdout",
     "output_type": "stream",
     "text": [
      "[[55, 356, 859], [55, 279, 779], [55, 1147, 1532]]\n"
     ]
    }
   ],
   "source": [
    "print(confirmedeccs_old)"
   ]
  },
  {
   "cell_type": "code",
   "execution_count": 111,
   "metadata": {},
   "outputs": [],
   "source": [
    "confirmed_eccs = []\n",
    "blank = list(filter(None, (list(map(confirmeccs, discordant_list55)))))"
   ]
  },
  {
   "cell_type": "code",
   "execution_count": 112,
   "metadata": {},
   "outputs": [
    {
     "name": "stdout",
     "output_type": "stream",
     "text": [
      "[[[55, 356, 859], [55, 279, 779]], [[55, 356, 859], [55, 279, 779]], [[55, 356, 859], [55, 279, 779]], [[55, 279, 779]], [[55, 279, 779]], [[55, 356, 859], [55, 279, 779]], [[55, 279, 779]], [[55, 356, 859], [55, 279, 779]], [[55, 356, 859], [55, 279, 779]], [[55, 1147, 1532]], [[55, 356, 859], [55, 279, 779]], [[55, 356, 859], [55, 279, 779]], [[55, 356, 859], [55, 279, 779]], [[55, 356, 859], [55, 279, 779]], [[55, 279, 779]]]\n"
     ]
    }
   ],
   "source": [
    "print(blank)"
   ]
  },
  {
   "cell_type": "code",
   "execution_count": 113,
   "metadata": {},
   "outputs": [],
   "source": [
    "flat_blank = [item for sublist in blank for item in sublist]\n",
    "uniq_blank = [list(x) for x in set(tuple(x) for x in flat_blank)]"
   ]
  },
  {
   "cell_type": "code",
   "execution_count": 114,
   "metadata": {},
   "outputs": [
    {
     "name": "stdout",
     "output_type": "stream",
     "text": [
      "[[55, 356, 859], [55, 279, 779], [55, 356, 859], [55, 279, 779], [55, 356, 859], [55, 279, 779], [55, 279, 779], [55, 279, 779], [55, 356, 859], [55, 279, 779], [55, 279, 779], [55, 356, 859], [55, 279, 779], [55, 356, 859], [55, 279, 779], [55, 1147, 1532], [55, 356, 859], [55, 279, 779], [55, 356, 859], [55, 279, 779], [55, 356, 859], [55, 279, 779], [55, 356, 859], [55, 279, 779], [55, 279, 779]]\n"
     ]
    }
   ],
   "source": [
    "print(flat_blank)"
   ]
  },
  {
   "cell_type": "code",
   "execution_count": 115,
   "metadata": {},
   "outputs": [
    {
     "name": "stdout",
     "output_type": "stream",
     "text": [
      "[[55, 279, 779], [55, 1147, 1532], [55, 356, 859]]\n"
     ]
    }
   ],
   "source": [
    "print(uniq_blank)"
   ]
  },
  {
   "cell_type": "code",
   "execution_count": 79,
   "metadata": {},
   "outputs": [
    {
     "name": "stdout",
     "output_type": "stream",
     "text": [
      "done\n",
      "done\n",
      "done\n",
      "done\n",
      "done\n",
      "done\n",
      "done\n",
      "done\n",
      "done\n",
      "done\n",
      "done\n",
      "done\n",
      "done\n",
      "done\n",
      "done\n",
      "done\n",
      "done\n",
      "done\n",
      "done\n",
      "done\n",
      "done\n",
      "done\n",
      "done\n",
      "done\n",
      "done\n",
      "done\n",
      "done\n",
      "done\n",
      "done\n",
      "done\n",
      "done\n",
      "done\n",
      "done\n",
      "done\n",
      "done\n",
      "done\n",
      "done\n",
      "done\n",
      "done\n",
      "done\n",
      "done\n",
      "done\n",
      "done\n",
      "done\n",
      "done\n",
      "done\n",
      "done\n",
      "done\n",
      "done\n",
      "done\n",
      "done\n",
      "done\n",
      "done\n",
      "done\n",
      "done\n",
      "done\n",
      "done\n",
      "done\n",
      "done\n",
      "done\n",
      "done\n",
      "done\n",
      "done\n",
      "done\n",
      "done\n",
      "done\n",
      "done\n",
      "done\n",
      "done\n",
      "done\n",
      "done\n",
      "done\n",
      "done\n",
      "done\n",
      "done\n",
      "done\n",
      "done\n",
      "done\n",
      "done\n",
      "done\n",
      "done\n",
      "done\n",
      "done\n",
      "done\n",
      "done\n",
      "done\n",
      "done\n",
      "done\n",
      "done\n",
      "done\n",
      "done\n",
      "done\n",
      "done\n",
      "done\n",
      "done\n",
      "done\n",
      "done\n",
      "done\n",
      "done\n",
      "done\n",
      "done\n",
      "done\n",
      "done\n",
      "done\n",
      "done\n",
      "done\n",
      "done\n",
      "done\n",
      "done\n",
      "done\n",
      "done\n",
      "done\n",
      "done\n",
      "done\n",
      "done\n",
      "done\n",
      "done\n",
      "done\n",
      "done\n",
      "done\n",
      "done\n",
      "done\n",
      "done\n",
      "done\n",
      "done\n",
      "done\n",
      "done\n",
      "done\n",
      "done\n",
      "done\n",
      "done\n",
      "done\n",
      "done\n",
      "done\n",
      "done\n",
      "done\n",
      "done\n",
      "done\n",
      "done\n",
      "done\n",
      "done\n",
      "done\n",
      "done\n",
      "done\n",
      "done\n",
      "done\n",
      "done\n",
      "done\n",
      "done\n",
      "done\n",
      "done\n",
      "done\n"
     ]
    }
   ],
   "source": [
    "for i in range(len(discordant_list55)):\n",
    "    confirmeccs(discordant_list55[i])"
   ]
  },
  {
   "cell_type": "code",
   "execution_count": 54,
   "metadata": {},
   "outputs": [
    {
     "name": "stdout",
     "output_type": "stream",
     "text": [
      "[]\n"
     ]
    }
   ],
   "source": [
    "print(confirmedeccs)"
   ]
  },
  {
   "cell_type": "code",
   "execution_count": 44,
   "metadata": {},
   "outputs": [
    {
     "name": "stdout",
     "output_type": "stream",
     "text": [
      "[[55, 420, 571, 593, 744], [55, 374, 520, 543, 694], [55, 450, 601, 651, 772], [55, 405, 556, 558, 707], [55, 307, 458, 560, 711], [55, 359, 510, 597, 748], [55, 292, 440, 549, 647], [55, 434, 585, 712, 748], [55, 402, 537, 606, 747], [55, 1147, 1298, 1316, 1467], [55, 426, 504, 621, 772], [55, 389, 540, 598, 747], [55, 409, 532, 573, 724], [55, 423, 552, 609, 760], [55, 345, 496, 580, 731]]\n"
     ]
    }
   ],
   "source": [
    "print(confirmedeccs)"
   ]
  }
 ],
 "metadata": {
  "kernelspec": {
   "display_name": "Python 3.6",
   "language": "python",
   "name": "python3.6"
  },
  "language_info": {
   "codemirror_mode": {
    "name": "ipython",
    "version": 3
   },
   "file_extension": ".py",
   "mimetype": "text/x-python",
   "name": "python",
   "nbconvert_exporter": "python",
   "pygments_lexer": "ipython3",
   "version": "3.6.8"
  }
 },
 "nbformat": 4,
 "nbformat_minor": 2
}
