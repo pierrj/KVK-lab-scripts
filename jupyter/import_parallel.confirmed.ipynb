{
 "cells": [
  {
   "cell_type": "code",
   "execution_count": 8,
   "metadata": {},
   "outputs": [],
   "source": [
    "import csv\n",
    "from operator import itemgetter"
   ]
  },
  {
   "cell_type": "code",
   "execution_count": 19,
   "metadata": {},
   "outputs": [],
   "source": [
    "sample = \"IF_3C\n",
    "\n",
    "\n",
    "\"\n",
    "\n",
    "with open(\"C:\\\\globus\\\\merged_tests\\\\\" + sample + \"\\\\parallel.confirmed\") as confirmed:\n",
    "    confirmed_reader = csv.reader(confirmed, delimiter = '\\t')\n",
    "    confirmed_list = [[int(row[0]), int(row[1]), int(row[2])] for row in confirmed_reader]\n",
    "\n",
    "confirmed_list_sorted = sorted(confirmed_list, key=itemgetter(0,1))\n",
    "\n",
    "with open('C:\\\\globus\\\\merged_tests\\\\parallel.confirmed.' + sample + '.bed', 'w', newline = '') as bed:\n",
    "    w = csv.writer(bed, delimiter = '\\t')\n",
    "    for i in range(len(confirmed_list_sorted)):\n",
    "        scaffold_string = 'MQOP010000' + str(confirmed_list_sorted[i][0]+1).zfill(2) + '.1'\n",
    "        row = [scaffold_string, confirmed_list_sorted[i][1], confirmed_list_sorted[i][2], i]\n",
    "        w.writerow(row)"
   ]
  }
 ],
 "metadata": {
  "kernelspec": {
   "display_name": "Python 3",
   "language": "python",
   "name": "python3"
  },
  "language_info": {
   "codemirror_mode": {
    "name": "ipython",
    "version": 3
   },
   "file_extension": ".py",
   "mimetype": "text/x-python",
   "name": "python",
   "nbconvert_exporter": "python",
   "pygments_lexer": "ipython3",
   "version": "3.7.6"
  }
 },
 "nbformat": 4,
 "nbformat_minor": 4
}
