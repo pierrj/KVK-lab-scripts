{
 "cells": [
  {
   "cell_type": "code",
   "execution_count": 1,
   "metadata": {},
   "outputs": [],
   "source": [
    "import csv\n",
    "import ipyparallel as ipp\n",
    "from itertools import groupby\n",
    "from itertools import compress\n",
    "import subprocess\n",
    "import statistics\n",
    "import collections"
   ]
  },
  {
   "cell_type": "code",
   "execution_count": 2,
   "metadata": {},
   "outputs": [],
   "source": [
    "with open('/global/home/users/pierrj/testfiles/500.testbedtools.processed', newline = '') as eccloc:\n",
    "    eccloc_reader = csv.reader(eccloc, delimiter = '\\t')\n",
    "    eccloc_list = [[int(row[0][10:12]) - 1, int(row[1]), int(row[2])] for row in eccloc_reader]"
   ]
  },
  {
   "cell_type": "code",
   "execution_count": 3,
   "metadata": {},
   "outputs": [],
   "source": [
    "with open('/global/home/users/pierrj/testfiles/sorted.discordantmappedreads.oppositefacing.bed', newline = '') as discordant:\n",
    "    discordant_reader = csv.reader(discordant, delimiter = '\\t')\n",
    "    discordant_indexed = [[] for i in range(56)]\n",
    "    for row in discordant_reader:\n",
    "        discordant_indexed[(int(row[0][10:12])-1)].append([int(row[1]), int(row[2])])"
   ]
  },
  {
   "cell_type": "code",
   "execution_count": 4,
   "metadata": {},
   "outputs": [],
   "source": [
    "def confirmeccs(ecc):\n",
    "    for i in range(0, len(discordant_indexed[ecc[0]]), 2):\n",
    "        read1 = discordant_indexed[ecc[0]][i]\n",
    "        read2 = discordant_indexed[ecc[0]][i+1]\n",
    "        if ecc[1] <= read1[0] <= ecc[2] and ecc[1] <= read1[1] <= ecc[2] and ecc[1] <= read2[0] <= ecc[2] and ecc[1] <= read2[1] <= ecc[2]:\n",
    "            return True\n",
    "    return False"
   ]
  },
  {
   "cell_type": "code",
   "execution_count": 6,
   "metadata": {},
   "outputs": [],
   "source": [
    "yesornoeccs = list(map(confirmeccs, eccloc_list))\n",
    "confirmedeccs = list(compress(eccloc_list, yesornoeccs))"
   ]
  },
  {
   "cell_type": "code",
   "execution_count": 16,
   "metadata": {},
   "outputs": [],
   "source": [
    "confirmedeccs_nomap = confirmeccs_nomap(eccloc_list)"
   ]
  },
  {
   "cell_type": "code",
   "execution_count": 15,
   "metadata": {},
   "outputs": [],
   "source": [
    "def confirmeccs_nomap(eccloc):\n",
    "    confirmedeccs = []\n",
    "    for l in range(len(eccloc)):\n",
    "        ecc = eccloc[l]\n",
    "        for i in range(0, len(discordant_indexed[ecc[0]]), 2):\n",
    "            read1 = discordant_indexed[ecc[0]][i]\n",
    "            read2 = discordant_indexed[ecc[0]][i+1]\n",
    "            if ecc[1] <= read1[0] <= ecc[2] and ecc[1] <= read1[1] <= ecc[2] and ecc[1] <= read2[0] <= ecc[2] and ecc[1] <= read2[1] <= ecc[2]:\n",
    "                confirmedeccs.append(ecc)\n",
    "                break\n",
    "    return confirmedeccs"
   ]
  },
  {
   "cell_type": "code",
   "execution_count": 18,
   "metadata": {},
   "outputs": [
    {
     "data": {
      "text/plain": [
       "True"
      ]
     },
     "execution_count": 18,
     "metadata": {},
     "output_type": "execute_result"
    }
   ],
   "source": [
    "confirmedeccs == confirmedeccs_nomap"
   ]
  }
 ],
 "metadata": {
  "kernelspec": {
   "display_name": "Python 3.6",
   "language": "python",
   "name": "python3.6"
  },
  "language_info": {
   "codemirror_mode": {
    "name": "ipython",
    "version": 3
   },
   "file_extension": ".py",
   "mimetype": "text/x-python",
   "name": "python",
   "nbconvert_exporter": "python",
   "pygments_lexer": "ipython3",
   "version": "3.6.4"
  }
 },
 "nbformat": 4,
 "nbformat_minor": 2
}
