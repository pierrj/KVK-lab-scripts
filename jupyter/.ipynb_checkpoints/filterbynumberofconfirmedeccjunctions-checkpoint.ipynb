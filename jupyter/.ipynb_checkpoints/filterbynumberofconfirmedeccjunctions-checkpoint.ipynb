{
 "cells": [
  {
   "cell_type": "code",
   "execution_count": 23,
   "metadata": {},
   "outputs": [],
   "source": [
    "import csv\n",
    "import ipyparallel as ipp\n",
    "from itertools import groupby\n",
    "from itertools import compress\n",
    "import subprocess\n",
    "import statistics\n",
    "import collections"
   ]
  },
  {
   "cell_type": "code",
   "execution_count": 76,
   "metadata": {},
   "outputs": [],
   "source": [
    "with open('/global/scratch/users/pierrj/eccDNA/magnaporthe_pureculture/rawdata/illumina/G3_1A_tests/parallel.confirmed') as confirmed:\n",
    "    confirmed_reader = csv.reader(confirmed, delimiter = '\\t')\n",
    "    confirmed_list = [[int(row[0]), int(row[1]), int(row[2])] for row in confirmed_reader]"
   ]
  },
  {
   "cell_type": "code",
   "execution_count": 3,
   "metadata": {},
   "outputs": [
    {
     "name": "stdout",
     "output_type": "stream",
     "text": [
      "[14, 70735, 71303]\n"
     ]
    }
   ],
   "source": [
    "print(confirmed_list[0])"
   ]
  },
  {
   "cell_type": "code",
   "execution_count": 4,
   "metadata": {},
   "outputs": [
    {
     "name": "stdout",
     "output_type": "stream",
     "text": [
      "110793\n"
     ]
    }
   ],
   "source": [
    "print(len(confirmed_list))"
   ]
  },
  {
   "cell_type": "code",
   "execution_count": 65,
   "metadata": {},
   "outputs": [],
   "source": [
    "def index_confidence_list(confidence_list):\n",
    "    confidence_index = [[] for i in range(56)] ## scaffold number here, get this variable from somewhere else\n",
    "    for i in range(len(confidence_list)):\n",
    "        row = confidence_list[i]\n",
    "        confidence_index[int(row[0])].append([int(row[0])+1, int(row[1]), int(row[2])]) ## adds no to be changed to yes if their is a variant\n",
    "    return confidence_index\n",
    "\n",
    "confidence_indexed = index_confidence_list(confirmed_list)"
   ]
  },
  {
   "cell_type": "code",
   "execution_count": 73,
   "metadata": {},
   "outputs": [
    {
     "name": "stdout",
     "output_type": "stream",
     "text": [
      "14321\n"
     ]
    }
   ],
   "source": [
    "print(len(confidence_indexed[0]))"
   ]
  },
  {
   "cell_type": "code",
   "execution_count": 40,
   "metadata": {},
   "outputs": [],
   "source": [
    "def splitreadcount_filter(lst, k):\n",
    "    tuple_list = [tuple(x) for x in lst]\n",
    "    counted = collections.Counter(tuple_list)\n",
    "    count_filtered = [el for el in lst if counted[tuple(el)] >= k]\n",
    "    return [list(x) for x in set(tuple(x) for x in count_filtered)]"
   ]
  },
  {
   "cell_type": "code",
   "execution_count": 75,
   "metadata": {},
   "outputs": [
    {
     "name": "stdout",
     "output_type": "stream",
     "text": [
      "11476\n"
     ]
    }
   ],
   "source": [
    "print(len(splitreadcount_filter(confidence_indexed[0], 1)))"
   ]
  },
  {
   "cell_type": "code",
   "execution_count": null,
   "metadata": {},
   "outputs": [],
   "source": []
  },
  {
   "cell_type": "code",
   "execution_count": 36,
   "metadata": {},
   "outputs": [],
   "source": [
    "def uniq_sort(start_list):\n",
    "    uniq_list = [list(x) for x in set(tuple(x) for x in start_list)]\n",
    "    end_list = sorted(uniq_list,key=lambda x: x[1])\n",
    "    return end_list"
   ]
  },
  {
   "cell_type": "code",
   "execution_count": 74,
   "metadata": {},
   "outputs": [
    {
     "name": "stdout",
     "output_type": "stream",
     "text": [
      "11476\n"
     ]
    }
   ],
   "source": [
    "print(len(uniq_sort(confidence_indexed[0])))"
   ]
  },
  {
   "cell_type": "code",
   "execution_count": 78,
   "metadata": {},
   "outputs": [],
   "source": [
    "confirmed_list = splitreadcount_filter(confirmed_list, 1)"
   ]
  },
  {
   "cell_type": "code",
   "execution_count": 79,
   "metadata": {},
   "outputs": [
    {
     "data": {
      "text/plain": [
       "93051"
      ]
     },
     "execution_count": 79,
     "metadata": {},
     "output_type": "execute_result"
    }
   ],
   "source": [
    "len(confirmed_list)"
   ]
  }
 ],
 "metadata": {
  "kernelspec": {
   "display_name": "Python 3.6",
   "language": "python",
   "name": "python3.6"
  },
  "language_info": {
   "codemirror_mode": {
    "name": "ipython",
    "version": 3
   },
   "file_extension": ".py",
   "mimetype": "text/x-python",
   "name": "python",
   "nbconvert_exporter": "python",
   "pygments_lexer": "ipython3",
   "version": "3.6.4"
  }
 },
 "nbformat": 4,
 "nbformat_minor": 2
}
