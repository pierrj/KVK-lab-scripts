{
 "cells": [
  {
   "cell_type": "code",
   "execution_count": 1,
   "metadata": {},
   "outputs": [],
   "source": [
    "import csv\n",
    "import collections\n",
    "import statistics"
   ]
  },
  {
   "cell_type": "code",
   "execution_count": 13,
   "metadata": {},
   "outputs": [],
   "source": [
    "with open('/global/scratch/users/pierrj/eccDNA/magnaporthe_pureculture/rawdata/illumina/G3_1A_tests/ecc_confidence') as confidence:\n",
    "    confidence_reader = csv.reader(confidence, delimiter = '\\t')\n",
    "    confidence_list = [[] for i in range(56)]\n",
    "    for row in confidence_reader:\n",
    "        confidence_list[int(row[0])].append([int(row[0]), int(row[1]), int(row[2]), str(row[3]), str(row[4]), str(row[5]), 'no'])\n",
    "        \n",
    "    ## maybe it's useful to keep chrom number here actually NEED TO CHANGE ALL INDEXES TO COMPENSATE"
   ]
  },
  {
   "cell_type": "code",
   "execution_count": 14,
   "metadata": {},
   "outputs": [],
   "source": [
    "def get_variants_grouped(eccs_perchrom):\n",
    "    ecc_withvariants = {}\n",
    "    for i in range(len(eccs_perchrom)):\n",
    "        ecc = eccs_perchrom[i]\n",
    "        variants = []\n",
    "## this likely isnt ideal because of its rolling nature but this will be replaced by repeat/junction based later\n",
    "        for k in range(len(eccs_perchrom)):\n",
    "            start_coordinate1 = eccs_perchrom[k][1] - 50\n",
    "            start_coordinate2 = eccs_perchrom[k][1] + 50\n",
    "            end_coordinate1 = eccs_perchrom[k][2] - 50\n",
    "            end_coordinate2 = eccs_perchrom[k][2] + 50\n",
    "            if start_coordinate1 <= ecc[1] <= start_coordinate2 and end_coordinate1 <= ecc[2] <= end_coordinate2:\n",
    "                variants.append(eccs_perchrom[k])\n",
    "        if tuple([ecc]) != tuple(variants): ## if there isn't just itself in the list\n",
    "            ecc_withvariants[tuple(ecc)] = variants\n",
    "    variants_grouped = collections.defaultdict(list)\n",
    "    for key,val in ecc_withvariants.items(): ## group eccs with same variants\n",
    "        variants_grouped[tuple(tuple(x) for x in val)].append(key)\n",
    "    return variants_grouped"
   ]
  },
  {
   "cell_type": "code",
   "execution_count": 15,
   "metadata": {},
   "outputs": [],
   "source": [
    "def getcoord(coord_list): ## get ideal representative coordinates based off medians\n",
    "    median = statistics.median(coord_list)\n",
    "    distancetoend = abs(median - max(coord_list))\n",
    "    distancetostart = abs(median - min(coord_list))\n",
    "    greaterlist = [i for i in coord_list if i >= median]\n",
    "    smallerlist = [i for i in coord_list if i <= median]\n",
    "    #if median is closer to end, get value above median. if median is closer to start, get value below median\n",
    "    #if equal get both values, one as alt\n",
    "    if distancetoend > distancetostart:\n",
    "        coord = min(smallerlist, key=lambda x:abs(x-median))\n",
    "        coord_alt = 'N/A'\n",
    "    elif distancetoend == distancetostart:\n",
    "        coord = min(greaterlist, key=lambda x:abs(x-median))\n",
    "        coord_alt = min(smallerlist, key=lambda x:abs(x-median))\n",
    "    elif distancetoend < distancetostart:\n",
    "        coord = min(greaterlist, key=lambda x:abs(x-median))\n",
    "        coord_alt = 'N/A'\n",
    "    else:\n",
    "        raise ValueError(\"getcoord error\")\n",
    "    return coord, coord_alt"
   ]
  },
  {
   "cell_type": "code",
   "execution_count": 16,
   "metadata": {},
   "outputs": [],
   "source": [
    "def test_coords(target_coord, other_coord, target_start_or_end, val): ## get closest matching coordinate based off on set/forced coordinate\n",
    "        ## check if start or end coordinate is the set one\n",
    "        if target_start_or_end == 'start':\n",
    "            known = 1\n",
    "            unknown = 2\n",
    "        if target_start_or_end == 'end':\n",
    "            known = 2\n",
    "            unknown = 1\n",
    "        ## get all potential options matching set coordinate\n",
    "        unknown_options = []\n",
    "        for i in val:\n",
    "            if i[known] == target_coord:\n",
    "                unknown_options.append(i[unknown])\n",
    "        ## test which one is the closest to the ideal median\n",
    "        unknown_coord = min(unknown_options, key=lambda x:abs(x-other_coord))\n",
    "        return unknown_coord"
   ]
  },
  {
   "cell_type": "code",
   "execution_count": 17,
   "metadata": {},
   "outputs": [],
   "source": [
    "def reconcile_coords(startcoord, endcoord, val): ## test which coordinate pair is closest to ideal\n",
    "        #test with start coordinate forced\n",
    "        startcoord_forced = test_coords(startcoord, endcoord, 'start', val)\n",
    "        #test with end coordinate forced\n",
    "        endcoord_forced = test_coords(endcoord, startcoord, 'end', val)\n",
    "        #test how close each non-ideal corresponding coordinates are to the ideal\n",
    "        fit_startcoord_forced = abs(startcoord_forced - endcoord)\n",
    "        fit_endcoord_forced = abs(endcoord_forced - startcoord)\n",
    "        if fit_startcoord_forced <= fit_endcoord_forced:\n",
    "            return startcoord, startcoord_forced\n",
    "        else:\n",
    "            return endcoord_forced, endcoord"
   ]
  },
  {
   "cell_type": "code",
   "execution_count": 18,
   "metadata": {},
   "outputs": [],
   "source": [
    "def get_representative_variants(variants_grouped):\n",
    "    representative_variants = {}\n",
    "    for key, val in variants_grouped.items():\n",
    "        startlist = []\n",
    "        endlist = []\n",
    "        for i in val:\n",
    "            startlist.append(i[1])\n",
    "            endlist.append(i[2])\n",
    "        start_coord, start_coord_alt = getcoord(startlist)\n",
    "        end_coord, end_coord_alt = getcoord(endlist)\n",
    "        middle_ecc = 0\n",
    "    ## check to see if a single ecc has ideal coordinates for both end and start\n",
    "        for i in val:\n",
    "            if i[1] == start_coord and i[2] == end_coord:\n",
    "                middle_ecc = i\n",
    "            if i[1] == start_coord and i[2] == end_coord_alt:\n",
    "                middle_ecc = i\n",
    "            if i[1] == start_coord_alt and i[2] == end_coord:\n",
    "                middle_ecc = i\n",
    "            if i[1] == start_coord and i[2] == start_coord_alt:\n",
    "                middle_ecc = i\n",
    "    ## if not then reconcile coordinates\n",
    "        if middle_ecc == 0:\n",
    "            start_coord_estimate, end_coord_estimate = reconcile_coords(start_coord, end_coord, val)\n",
    "            for i in val:\n",
    "                if i[1] == start_coord_estimate and i[2] == end_coord_estimate:\n",
    "                    middle_ecc = i\n",
    "        if middle_ecc == 0:\n",
    "            raise ValueError(\"No ecc merged ecc called\")\n",
    "        else:\n",
    "            representative_variants[middle_ecc] = val\n",
    "    return representative_variants"
   ]
  },
  {
   "cell_type": "code",
   "execution_count": 19,
   "metadata": {},
   "outputs": [],
   "source": [
    "def uniq_sort(start_list):\n",
    "    uniq_list = [list(x) for x in set(tuple(x) for x in start_list)]\n",
    "    end_list = sorted(uniq_list,key=lambda x: x[1])\n",
    "    return end_list"
   ]
  },
  {
   "cell_type": "code",
   "execution_count": 20,
   "metadata": {},
   "outputs": [],
   "source": [
    "def merge_variants(eccs_perchrom, representative_variants):\n",
    "    for i in range(len(eccs_perchrom)):\n",
    "        ecc = eccs_perchrom[i]\n",
    "        for key, val in representative_variants.items():\n",
    "            if tuple(ecc) in val:\n",
    "                key_list = list(key)\n",
    "                key_list[6] = 'yes'\n",
    "                eccs_perchrom[i] = key_list\n",
    "    variants_merged = uniq_sort(eccs_perchrom)\n",
    "    return variants_merged"
   ]
  },
  {
   "cell_type": "code",
   "execution_count": 21,
   "metadata": {},
   "outputs": [],
   "source": [
    "def ecc_merge(eccs_perchrom):\n",
    "    variants_grouped = get_variants_grouped(eccs_perchrom)\n",
    "    representative_variants = get_representative_variants(variants_grouped)\n",
    "    variants_merged = merge_variants(eccs_perchrom, representative_variants)\n",
    "    return variants_merged, representative_variants"
   ]
  },
  {
   "cell_type": "code",
   "execution_count": 22,
   "metadata": {},
   "outputs": [],
   "source": [
    "final_list = []\n",
    "variants_list = []\n",
    "test_list = [uniq_sort(confidence_list[0]), uniq_sort(confidence_list[1])]\n",
    "for i in range(len(test_list)):\n",
    "    variants_merged, representative_variants = ecc_merge(test_list[i])\n",
    "    final_list.append(variants_merged)\n",
    "    variants_list.append(representative_variants)\n",
    "flat_list = [item for sublist in final_list for item in sublist]"
   ]
  },
  {
   "cell_type": "code",
   "execution_count": 23,
   "metadata": {},
   "outputs": [
    {
     "name": "stdout",
     "output_type": "stream",
     "text": [
      "2\n",
      "5581\n",
      "5550\n",
      "2\n",
      "2483\n",
      "2429\n"
     ]
    }
   ],
   "source": [
    "print(len(final_list))\n",
    "print(len(final_list[0]))\n",
    "print(len(final_list[1]))\n",
    "print(len(variants_list))\n",
    "print(len(variants_list[0]))\n",
    "print(len(variants_list[1]))"
   ]
  },
  {
   "cell_type": "code",
   "execution_count": null,
   "metadata": {},
   "outputs": [],
   "source": [
    "with open('/global/home/users/pierrj/testfiles/variants_dict', 'w', newline=\"\") as variants_dict:  \n",
    "    w = csv.writer(variants_dict, delimiter = '\\t')\n",
    "    for i in range(len(variants_list)):\n",
    "        for key, value in variants_list[i].items():\n",
    "           w.writerow([key, value])"
   ]
  }
 ],
 "metadata": {
  "kernelspec": {
   "display_name": "Python 3.6",
   "language": "python",
   "name": "python3.6"
  },
  "language_info": {
   "codemirror_mode": {
    "name": "ipython",
    "version": 3
   },
   "file_extension": ".py",
   "mimetype": "text/x-python",
   "name": "python",
   "nbconvert_exporter": "python",
   "pygments_lexer": "ipython3",
   "version": "3.6.4"
  }
 },
 "nbformat": 4,
 "nbformat_minor": 2
}
