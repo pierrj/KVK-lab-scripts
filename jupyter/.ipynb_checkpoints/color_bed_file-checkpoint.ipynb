{
 "cells": [
  {
   "cell_type": "code",
   "execution_count": 2,
   "metadata": {},
   "outputs": [],
   "source": [
    "import csv"
   ]
  },
  {
   "cell_type": "code",
   "execution_count": 5,
   "metadata": {},
   "outputs": [],
   "source": [
    "with open('/global/scratch/users/pierrj/eccDNA/magnaporthe_pureculture/rawdata/illumina/G3_1A_tests/ecccaller_output.G3_1A_all.details.tsv', newline = '') as ecc:\n",
    "    ecc_reader = csv.reader(ecc, delimiter = '\\t')\n",
    "    ecc_list = [[int(row[0]), int(row[1]), int(row[2]), str(row[3])] for row in ecc_reader]"
   ]
  },
  {
   "cell_type": "code",
   "execution_count": 7,
   "metadata": {},
   "outputs": [],
   "source": [
    "with open('/global/scratch/users/pierrj/eccDNA/magnaporthe_pureculture/rawdata/illumina/G3_1A_tests/ecccaller_output.G3_1A_all.colored_test.bed', 'w', newline = '') as bed:\n",
    "    w = csv.writer(bed, delimiter = '\\t')\n",
    "    for i in range(len(ecc_list)):\n",
    "        scaffold_string = 'MQOP010000' + str(ecc_list[i][0]).zfill(2) + \".1\"\n",
    "        if ecc_list[i][3] == 'lowq':\n",
    "            color = '255,0,0'\n",
    "        if ecc_list[i][3] == 'conf':\n",
    "            color = '255,255,0'\n",
    "        if ecc_list[i][3] == 'hconf':\n",
    "            color = '0,255,0'\n",
    "        row = [scaffold_string, ecc_list[i][1], ecc_list[i][2], i, 0, '+', ecc_list[i][1], ecc_list[i][2], color ]\n",
    "        w.writerow(row)"
   ]
  },
  {
   "cell_type": "code",
   "execution_count": null,
   "metadata": {},
   "outputs": [],
   "source": [
    "##script version\n",
    "with open('/global/scratch/users/pierrj/eccDNA/magnaporthe_pureculture/rawdata/illumina/G3_1A_tests/ecccaller_output.G3_1A_all.colored_test.bed', 'w', newline = '') as bed:\n",
    "    w = csv.writer(bed, delimiter = '\\t')\n",
    "    for i in range(len(flat_list)):\n",
    "        scaffold_string = 'MQOP010000' + str(flat_list[i][0]).zfill(2) + \".1\"\n",
    "        if flat_list[i][3] == 'lowq':\n",
    "            color = '255,0,0'\n",
    "        if flat_list[i][3] == 'conf':\n",
    "            color = '255,255,0'\n",
    "        if flat_list[i][3] == 'hconf':\n",
    "            color = '0,255,0'\n",
    "        row = [scaffold_string, flat_list[i][1], flat_list[i][2], i, 0, '+', flat_list[i][1], flat_list[i][2], color ]\n",
    "        w.writerow(row)"
   ]
  }
 ],
 "metadata": {
  "kernelspec": {
   "display_name": "Python 3.6",
   "language": "python",
   "name": "python3.6"
  },
  "language_info": {
   "codemirror_mode": {
    "name": "ipython",
    "version": 3
   },
   "file_extension": ".py",
   "mimetype": "text/x-python",
   "name": "python",
   "nbconvert_exporter": "python",
   "pygments_lexer": "ipython3",
   "version": "3.6.4"
  }
 },
 "nbformat": 4,
 "nbformat_minor": 2
}
