{
 "cells": [
  {
   "cell_type": "code",
   "execution_count": 1,
   "metadata": {},
   "outputs": [],
   "source": [
    "import csv\n",
    "import ipyparallel as ipp\n",
    "from itertools import compress\n",
    "import sqlite3"
   ]
  },
  {
   "cell_type": "code",
   "execution_count": 2,
   "metadata": {},
   "outputs": [],
   "source": [
    "def data_entry(data):\n",
    "    c.execute('''Drop TABLE if exists server''')\n",
    "    c.execute('''Create TABLE if not exists server(chrom, start, end)''')\n",
    "    for i in range(len(data)):\n",
    "        c.execute(\"INSERT INTO server(chrom, start, end) VALUES(?,?,?)\", (test[i]))\n",
    "    conn.commit()"
   ]
  },
  {
   "cell_type": "code",
   "execution_count": 3,
   "metadata": {},
   "outputs": [],
   "source": [
    "def confirmeccs(ecc):\n",
    "    c.execute(\"SELECT * FROM server\")\n",
    "    for read1 in c:\n",
    "        read2 = next(c)\n",
    "        if read1[0]==ecc[0]==read2[0]:\n",
    "            if ecc[1] <= read1[1] <= ecc[2] and ecc[1] <= read1[2] <= ecc[2] and ecc[1] <= read2[1] <= ecc[2] and ecc[1] <= read2[2] <= ecc[2]:\n",
    "                return True\n",
    "    return False"
   ]
  },
  {
   "cell_type": "code",
   "execution_count": null,
   "metadata": {},
   "outputs": [],
   "source": [
    "with open('merged.splitreads.sorted.reverseread1.G3_1A_bwamem.bed', newline = '') as eccloc:\n",
    "    eccloc_reader = csv.reader(eccloc, delimiter = '\\t')\n",
    "    eccloc_list = [[int(row[0][10:12]), int(row[1]), int(row[2])] for row in eccloc_reader]\n",
    "    \n",
    "with open('discordantmappedreads.oppositefacing.bed', newline = '') as discordant:\n",
    "    discordant_reader = csv.reader(discordant, delimiter = '\\t')\n",
    "    discordant_list = [[int(row[0][10:12]), int(row[1]), int(row[2])] for row in discordant_reader]"
   ]
  },
  {
   "cell_type": "code",
   "execution_count": null,
   "metadata": {},
   "outputs": [],
   "source": [
    "conn = sqlite3.connect(r\"eccloclist_sql.db\")\n",
    "c = conn.cursor()\n",
    "data_entry(discordant_list)"
   ]
  },
  {
   "cell_type": "code",
   "execution_count": null,
   "metadata": {},
   "outputs": [],
   "source": [
    "rc = ipp.Client(profile='default', cluster_id='')\n",
    "dview = rc[:]\n",
    "dview.block = True\n",
    "lview = rc.load_balanced_view()\n",
    "lview.block = True"
   ]
  },
  {
   "cell_type": "code",
   "execution_count": null,
   "metadata": {},
   "outputs": [],
   "source": [
    "dview.execute('import sqlite3')\n",
    "dview.execute('conn = sqlite3.connect(r\"eccloclist_sql.db\")')\n",
    "dview.execute('c = conn.cursor()')"
   ]
  },
  {
   "cell_type": "code",
   "execution_count": null,
   "metadata": {},
   "outputs": [],
   "source": [
    "yesornoeccs = list(lview.map(confirmeccs, eccloc_list))\n",
    "confirmedeccs = list(compress(eccloc_list, yesornoeccs))"
   ]
  },
  {
   "cell_type": "code",
   "execution_count": null,
   "metadata": {},
   "outputs": [],
   "source": [
    "with open('parallel.confirmed', 'w', newline = '') as confirmed:\n",
    "    w = csv.writer(confirmed, delimiter = '\\t')\n",
    "    w.writerows(confirmedeccs)"
   ]
  },
  {
   "cell_type": "code",
   "execution_count": null,
   "metadata": {},
   "outputs": [],
   "source": [
    "dview.execute('conn.close()')\n",
    "conn.close()"
   ]
  }
 ],
 "metadata": {
  "kernelspec": {
   "display_name": "Python 3.6",
   "language": "python",
   "name": "python3.6"
  },
  "language_info": {
   "codemirror_mode": {
    "name": "ipython",
    "version": 3
   },
   "file_extension": ".py",
   "mimetype": "text/x-python",
   "name": "python",
   "nbconvert_exporter": "python",
   "pygments_lexer": "ipython3",
   "version": "3.6.4"
  }
 },
 "nbformat": 4,
 "nbformat_minor": 2
}
