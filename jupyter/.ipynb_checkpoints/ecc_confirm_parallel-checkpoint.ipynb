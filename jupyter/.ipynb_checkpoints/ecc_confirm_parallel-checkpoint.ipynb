{
 "cells": [
  {
   "cell_type": "code",
   "execution_count": 34,
   "metadata": {},
   "outputs": [],
   "source": [
    "import csv\n",
    "import ipyparallel as ipp\n",
    "import timeit\n",
    "import sys\n",
    "from itertools import groupby"
   ]
  },
  {
   "cell_type": "code",
   "execution_count": 13,
   "metadata": {},
   "outputs": [],
   "source": [
    "with open('/global/home/users/pierrj/testfiles/500.testbedtools.processed', newline = '') as eccloc:\n",
    "    eccloc_reader = csv.reader(eccloc, delimiter = '\\t')\n",
    "    eccloc_list = [[int(row[0][10:12]), int(row[1]), int(row[2])] for row in eccloc_reader]\n",
    "    \n",
    "with open('/global/home/users/pierrj/testfiles/500.testbedtools.processed', newline = '') as eccloc:\n",
    "    eccloc_reader = csv.reader(eccloc, delimiter = '\\t')\n",
    "    eccloc_list_forindex = [[int(row[0][10:12]) - 1, int(row[1]), int(row[2])] for row in eccloc_reader]\n",
    "    \n",
    "with open('/global/home/users/pierrj/testfiles/sorted.discordantmappedreads.oppositefacing.bed', newline = '') as discordant:\n",
    "    discordant_reader = csv.reader(discordant, delimiter = '\\t')\n",
    "    discordant_list = [[int(row[0][10:12]), int(row[1]), int(row[2])] for row in discordant_reader]"
   ]
  },
  {
   "cell_type": "code",
   "execution_count": 5,
   "metadata": {},
   "outputs": [],
   "source": [
    "discordant_indexed = [[x[1:] for x in g] for k, g in groupby(discordant_list, key = lambda x: x[0])]"
   ]
  },
  {
   "cell_type": "code",
   "execution_count": 45,
   "metadata": {},
   "outputs": [
    {
     "name": "stdout",
     "output_type": "stream",
     "text": [
      "19.61608135700226\n",
      "18.827782221138477\n"
     ]
    },
    {
     "data": {
      "text/plain": [
       "True"
      ]
     },
     "execution_count": 45,
     "metadata": {},
     "output_type": "execute_result"
    }
   ],
   "source": [
    "start_time = timeit.default_timer()\n",
    "with open('/global/home/users/pierrj/testfiles/sorted.discordantmappedreads.oppositefacing.bed', newline = '') as discordant:\n",
    "    discordant_reader = csv.reader(discordant, delimiter = '\\t')\n",
    "    discordant_list = [[int(row[0][10:12]), int(row[1]), int(row[2])] for row in discordant_reader]\n",
    "    discordant_indexed = [[x[1:] for x in g] for k, g in groupby(discordant_list, key = lambda x: x[0])]\n",
    "print(timeit.default_timer() - start_time)\n",
    "\n",
    "start_time = timeit.default_timer()\n",
    "with open('/global/home/users/pierrj/testfiles/discordantmappedreads.oppositefacing.bed') as discordant:\n",
    "    discordant_reader = csv.reader(discordant, delimiter = '\\t')\n",
    "    discordant_indexed_biglist = [[] for i in range(56)]\n",
    "    for row in discordant_reader:\n",
    "        discordant_indexed_biglist[(int(row[0][10:12])-1)].append([int(row[1]), int(row[2])])\n",
    "print(timeit.default_timer() - start_time)\n",
    "\n",
    "discordant_indexed == discordant_indexed_biglist"
   ]
  },
  {
   "cell_type": "code",
   "execution_count": null,
   "metadata": {},
   "outputs": [],
   "source": []
  },
  {
   "cell_type": "code",
   "execution_count": 40,
   "metadata": {},
   "outputs": [
    {
     "name": "stdout",
     "output_type": "stream",
     "text": [
      "[[26, 177], [491, 642], [1384, 1535], [918, 1052], [942, 1087], [490, 641], [963, 1114], [1393, 1521], [253, 404], [58, 195], [866, 1017], [597, 748], [6, 157], [266, 417], [1404, 1555], [1241, 1392], [418, 569], [851, 1002], [69, 220], [514, 665], [386, 533], [1304, 1455], [1081, 1232], [870, 1008], [371, 497], [42, 193], [66, 217], [321, 472], [543, 694], [374, 520], [942, 1093], [577, 728], [17, 168], [890, 1041], [6, 157], [891, 1042], [1462, 1594], [1154, 1305], [1130, 1279], [951, 1102], [996, 1147], [866, 988], [865, 1016], [377, 528], [1370, 1521], [1135, 1286], [1063, 1214], [1348, 1488], [854, 1002], [1026, 1163], [382, 533], [1314, 1465], [618, 769], [908, 1059], [1199, 1350], [1478, 1629], [1095, 1219], [1351, 1502], [469, 620], [1197, 1324], [1015, 1129], [852, 1003], [1118, 1240], [961, 1112], [1071, 1222], [1346, 1497], [1083, 1234], [937, 1080], [307, 458], [560, 711], [1331, 1482], [1524, 1649], [1451, 1602], [1135, 1286], [888, 1039], [432, 583], [440, 591], [996, 1147], [870, 1003], [1095, 1239], [893, 1044], [1097, 1237], [949, 1100], [1115, 1240], [1090, 1237], [911, 1062], [986, 1112], [804, 955], [481, 632], [1139, 1290], [571, 722], [19, 170], [1415, 1524], [961, 1112], [481, 632], [968, 1119], [1049, 1200], [411, 562], [1134, 1273], [924, 1075], [967, 1119], [515, 666], [1424, 1575], [1095, 1226], [1199, 1350], [1033, 1184], [1424, 1575], [477, 620], [872, 1023], [1026, 1177], [859, 982], [457, 608], [510, 647], [91, 242], [999, 1150], [1288, 1439], [1447, 1594], [809, 960], [607, 758], [863, 1014], [1279, 1430], [592, 743], [881, 1023], [529, 680], [546, 685], [853, 1004], [1098, 1239], [881, 1032], [1158, 1309], [798, 949], [1284, 1435], [865, 1016], [1103, 1254], [1417, 1568], [1338, 1489], [456, 607], [1092, 1243], [847, 998], [947, 1098], [1110, 1261], [623, 774], [929, 1080], [1127, 1268], [951, 1102], [1464, 1615], [916, 1052], [360, 511], [1454, 1605], [549, 647], [292, 440], [1062, 1213], [392, 543], [611, 748], [843, 994], [1118, 1269], [1512, 1649], [1336, 1487], [542, 666], [1136, 1287], [1385, 1536], [1152, 1303], [348, 475], [1032, 1183], [829, 980], [80, 209], [1172, 1320], [19, 159], [930, 1081], [1494, 1645], [1327, 1468], [957, 1108], [1111, 1239], [979, 1130], [777, 927], [608, 742], [1108, 1259], [1067, 1218], [885, 1036], [980, 1122], [15, 166], [1414, 1565], [1152, 1303], [344, 495], [855, 1006], [567, 713], [903, 1054], [21, 172], [498, 649], [1159, 1290], [971, 1122], [891, 1042], [333, 484], [439, 569], [605, 756], [1014, 1162], [261, 412], [1133, 1284], [1459, 1610], [1085, 1236], [437, 588], [967, 1118], [609, 760], [855, 982], [536, 687], [473, 624], [1247, 1398], [865, 1016], [400, 523], [598, 747], [389, 540], [884, 1035], [1084, 1235], [1422, 1573], [1070, 1208], [252, 337], [40, 191], [561, 712], [1068, 1219], [1122, 1273], [963, 1104], [1417, 1568], [1150, 1301], [922, 1073], [1089, 1240], [1378, 1529], [987, 1119], [925, 1076], [1130, 1281], [1006, 1157], [407, 558], [1212, 1363], [579, 730], [942, 1087], [442, 593], [332, 483], [1150, 1301], [367, 518], [874, 1025], [348, 495], [1078, 1229], [910, 1061], [460, 611], [782, 933], [407, 558], [1107, 1258], [886, 1037], [1146, 1290], [977, 1128], [1381, 1532], [790, 941], [1116, 1239], [933, 1084], [1334, 1485], [278, 429], [789, 940], [1393, 1544], [1080, 1231], [1305, 1456], [1476, 1627], [1322, 1398], [1110, 1239], [890, 1041], [1512, 1649], [948, 1099], [345, 496], [580, 731], [925, 1076], [1183, 1325], [996, 1147], [586, 737], [915, 1066], [388, 473]]\n"
     ]
    }
   ],
   "source": [
    "print(discordant_indexed[55])"
   ]
  },
  {
   "cell_type": "code",
   "execution_count": 37,
   "metadata": {},
   "outputs": [],
   "source": [
    "def get_size(obj, seen=None):\n",
    "\n",
    "    \"\"\"Recursively finds size of objects\"\"\"\n",
    "\n",
    "    size = sys.getsizeof(obj)\n",
    "\n",
    "    if seen is None:\n",
    "\n",
    "        seen = set()\n",
    "\n",
    "    obj_id = id(obj)\n",
    "\n",
    "    if obj_id in seen:\n",
    "\n",
    "        return 0\n",
    "\n",
    "    # Important mark as seen *before* entering recursion to gracefully handle\n",
    "\n",
    "    # self-referential objects\n",
    "\n",
    "    seen.add(obj_id)\n",
    "\n",
    "    if isinstance(obj, dict):\n",
    "\n",
    "        size += sum([get_size(v, seen) for v in obj.values()])\n",
    "\n",
    "        size += sum([get_size(k, seen) for k in obj.keys()])\n",
    "\n",
    "    elif hasattr(obj, '__dict__'):\n",
    "\n",
    "        size += get_size(obj.__dict__, seen)\n",
    "\n",
    "    elif hasattr(obj, '__iter__') and not isinstance(obj, (str, bytes, bytearray)):\n",
    "\n",
    "        size += sum([get_size(i, seen) for i in obj])\n",
    "\n",
    "    return size"
   ]
  },
  {
   "cell_type": "code",
   "execution_count": 6,
   "metadata": {},
   "outputs": [],
   "source": [
    "def confirmeccs_noindex(ecc):\n",
    "    for i in range(0, len(discordant_list), 2):\n",
    "        read1 = discordant_list[i]\n",
    "        read2 = discordant_list[i+1]\n",
    "        if read1[0]==ecc[0]==read2[0]:\n",
    "            if ecc[1] <= read1[1] <= ecc[2] and ecc[1] <= read1[2] <= ecc[2] and ecc[1] <= read2[1] <= ecc[2] and ecc[1] <= read2[2] <= ecc[2]:\n",
    "                return True\n",
    "    return False"
   ]
  },
  {
   "cell_type": "code",
   "execution_count": 21,
   "metadata": {},
   "outputs": [],
   "source": [
    "def confirmeccs(ecc):\n",
    "    for i in range(0, len(discordant_indexed[ecc[0]]), 2):\n",
    "        read1 = discordant_indexed[ecc[0]][i]\n",
    "        read2 = discordant_indexed[ecc[0]][i+1]\n",
    "        if ecc[1] <= read1[0] <= ecc[2] and ecc[1] <= read1[1] <= ecc[2] and ecc[1] <= read2[0] <= ecc[2] and ecc[1] <= read2[1] <= ecc[2]:\n",
    "            return True\n",
    "    return False"
   ]
  },
  {
   "cell_type": "code",
   "execution_count": 22,
   "metadata": {},
   "outputs": [],
   "source": [
    "yesornoeccs = list(map(confirmeccs, eccloc_list_forindex))"
   ]
  },
  {
   "cell_type": "code",
   "execution_count": 17,
   "metadata": {},
   "outputs": [],
   "source": [
    "yesornoeccs_noindex = list(map(confirmeccs_noindex, eccloc_list))"
   ]
  },
  {
   "cell_type": "code",
   "execution_count": 23,
   "metadata": {},
   "outputs": [
    {
     "data": {
      "text/plain": [
       "True"
      ]
     },
     "execution_count": 23,
     "metadata": {},
     "output_type": "execute_result"
    }
   ],
   "source": [
    "yesornoeccs == yesornoeccs_noindex"
   ]
  },
  {
   "cell_type": "code",
   "execution_count": 26,
   "metadata": {},
   "outputs": [],
   "source": [
    "from itertools import compress"
   ]
  },
  {
   "cell_type": "code",
   "execution_count": 27,
   "metadata": {},
   "outputs": [],
   "source": [
    "confirmedeccs = list(compress(eccloc_list_forindex, yesornoeccs))"
   ]
  },
  {
   "cell_type": "code",
   "execution_count": 28,
   "metadata": {},
   "outputs": [
    {
     "name": "stdout",
     "output_type": "stream",
     "text": [
      "[[14, 70735, 71303], [14, 349128, 349764], [2, 1674894, 1680235], [12, 355104, 356042], [2, 626071, 627316], [21, 209465, 209961], [4, 2696604, 2699034], [14, 132347, 132906], [9, 932917, 935653], [5, 1887602, 1889159], [8, 166497, 166880], [4, 3034338, 3034647], [1, 4945547, 4946469], [2, 573874, 575341], [11, 748313, 748925], [2, 3611761, 3616320], [7, 1295634, 1297723], [2, 3923725, 3924836], [4, 1884379, 1885179], [3, 1200621, 1200838], [8, 1087179, 1087434], [3, 3985805, 3986558], [12, 284307, 284726], [1, 2723079, 2723598], [4, 514531, 514923], [5, 1798055, 1799288], [0, 2572624, 2601296], [5, 1639975, 1640643], [2, 42591, 969033], [2, 969033, 974891], [6, 301843, 302179], [1, 3651347, 3651857], [1, 2975018, 2975126], [0, 2766710, 2767281], [1, 4781704, 4783066], [4, 903719, 904716], [3, 2745821, 2747117], [3, 1922629, 1923069], [1, 3122436, 3122929], [18, 16213, 17324], [2, 2233907, 2234838], [0, 1856983, 1857333], [13, 629643, 630109], [4, 2329237, 2331733], [6, 1706117, 1706658], [0, 14440, 14942], [2, 1470754, 1471298], [1, 2714934, 2715312], [5, 1519529, 1519809], [0, 1677271, 1677565], [0, 1804500, 1805152], [5, 1920942, 1925468], [0, 1677271, 1677564], [5, 1791093, 1793324], [7, 2242641, 2242923], [0, 1340091, 1340368], [2, 730829, 732219], [1, 2097523, 2097808], [7, 1846788, 1847725], [7, 1085359, 1087331], [2, 452875, 453108], [1, 4415899, 4416370], [3, 3936947, 3939630], [6, 2061409, 2061895], [2, 231470, 232258], [5, 2078134, 2078497], [35, 4, 403], [2, 710837, 711176], [6, 2189778, 2191652], [16, 82152, 82653], [0, 178951, 179519], [25, 6233, 6490], [9, 498138, 499265], [2, 1289410, 1289880], [2, 4174892, 4177022], [11, 21162, 913303], [2, 1902558, 1906340], [2, 4526105, 4527865], [16, 330727, 331446], [6, 49164, 52890], [45, 5836, 6417], [3, 15123, 15608], [5, 1328682, 1332038], [2, 1149023, 1149276], [0, 3976642, 3978994], [1, 2311215, 2313319], [1, 2311211, 2313319], [9, 498138, 499273], [4, 894270, 894661], [3, 2730443, 2733401], [2, 95124, 96173], [4, 47461, 51154], [1, 1210323, 1213191], [1, 3530958, 3532187], [2, 2237941, 2241094], [10, 615371, 617634], [4, 2146296, 2149569], [0, 4176626, 4180066], [8, 483871, 484206], [0, 4613259, 4614194], [1, 2694761, 2695284], [1, 594231, 594624], [1, 2668065, 2670921], [3, 2646479, 2647141], [22, 67333, 69038], [1, 711367, 712351], [12, 177402, 178990], [46, 2271, 2821], [4, 1000210, 1001565], [18, 77480, 77977], [16, 217757, 219384], [1, 552190, 552481], [6, 1961520, 1961960], [12, 60812, 61222], [0, 1976397, 1977203], [6, 900973, 901807], [4, 2131818, 2132257], [10, 1050034, 1050487], [5, 2217749, 2218809], [1, 1452317, 1452710], [12, 166191, 166938], [0, 1187006, 1187892], [2, 4759741, 4761979], [15, 553557, 554412], [1, 2377854, 2378954], [11, 908767, 909201], [0, 3506270, 3506684], [0, 4761021, 4761545], [18, 95565, 95891], [4, 1307439, 1308094], [0, 3597142, 3597920], [0, 1677271, 1677576], [3, 4171866, 4172255], [14, 740240, 740710], [12, 166183, 166938], [2, 4577058, 4577565], [4, 908287, 910420], [0, 701886, 702453], [10, 377797, 397579], [2, 2658183, 2658771], [26, 21600, 21900], [2, 4279858, 4283063], [1, 1782380, 1784095], [2, 4872041, 4877679], [3, 3689120, 3690061]]\n"
     ]
    }
   ],
   "source": [
    "print(confirmedeccs)"
   ]
  },
  {
   "cell_type": "code",
   "execution_count": 25,
   "metadata": {
    "scrolled": true
   },
   "outputs": [
    {
     "name": "stdout",
     "output_type": "stream",
     "text": [
      "5.66011764574796\n",
      "83.16817372618243\n"
     ]
    }
   ],
   "source": [
    "start_time = timeit.default_timer()\n",
    "yesornoeccs = list(map(confirmeccs, eccloc_list_forindex))\n",
    "print(timeit.default_timer() - start_time)\n",
    "\n",
    "start_time = timeit.default_timer()\n",
    "yesornoeccs_noindex = list(map(confirmeccs_noindex, eccloc_list))\n",
    "print(timeit.default_timer() - start_time)"
   ]
  },
  {
   "cell_type": "code",
   "execution_count": 29,
   "metadata": {},
   "outputs": [],
   "source": [
    "with open('/global/home/users/pierrj/testfiles/500.confirmed', 'w', newline = '') as confirmed:\n",
    "    w = csv.writer(confirmed, delimiter = '\\t')\n",
    "    w.writerows(confirmedeccs)"
   ]
  }
 ],
 "metadata": {
  "kernelspec": {
   "display_name": "Python 3.6",
   "language": "python",
   "name": "python3.6"
  },
  "language_info": {
   "codemirror_mode": {
    "name": "ipython",
    "version": 3
   },
   "file_extension": ".py",
   "mimetype": "text/x-python",
   "name": "python",
   "nbconvert_exporter": "python",
   "pygments_lexer": "ipython3",
   "version": "3.6.4"
  }
 },
 "nbformat": 4,
 "nbformat_minor": 2
}
